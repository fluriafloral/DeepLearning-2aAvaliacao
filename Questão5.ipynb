{
  "cells": [
    {
      "cell_type": "markdown",
      "id": "2f3278ae",
      "metadata": {
        "id": "2f3278ae"
      },
      "source": [
        "The following additional libraries are needed to run this\n",
        "notebook. Note that running on Colab is experimental, please report a Github\n",
        "issue if you have any problem."
      ]
    },
    {
      "cell_type": "code",
      "execution_count": null,
      "id": "6c816e61",
      "metadata": {
        "id": "6c816e61"
      },
      "outputs": [],
      "source": [
        "!pip install d2l==1.0.0-alpha1.post0\n"
      ]
    },
    {
      "cell_type": "markdown",
      "id": "2bd68f57",
      "metadata": {
        "origin_pos": 1,
        "id": "2bd68f57"
      },
      "source": [
        "# Residual Networks (ResNet) and ResNeXt\n",
        ":label:`sec_resnet`\n",
        "\n",
        "As we design increasingly deeper networks it becomes imperative to understand how adding layers can increase the complexity and expressiveness of the network.\n",
        "Even more important is the ability to design networks where adding layers makes networks strictly more expressive rather than just different.\n",
        "To make some progress we need a bit of mathematics.\n",
        "\n",
        "\n",
        "## Function Classes\n",
        "\n",
        "Consider $\\mathcal{F}$, the class of functions that a specific network architecture (together with learning rates and other hyperparameter settings) can reach.\n",
        "That is, for all $f \\in \\mathcal{F}$ there exists some set of parameters (e.g., weights and biases) that can be obtained through training on a suitable dataset.\n",
        "Let's assume that $f^*$ is the \"truth\" function that we really would like to find.\n",
        "If it is in $\\mathcal{F}$, we are in good shape but typically we will not be quite so lucky.\n",
        "Instead, we will try to find some $f^*_\\mathcal{F}$ which is our best bet within $\\mathcal{F}$.\n",
        "For instance,\n",
        "given a dataset with features $\\mathbf{X}$\n",
        "and labels $\\mathbf{y}$,\n",
        "we might try finding it by solving the following optimization problem:\n",
        "\n",
        "$$f^*_\\mathcal{F} \\stackrel{\\mathrm{def}}{=} \\mathop{\\mathrm{argmin}}_f L(\\mathbf{X}, \\mathbf{y}, f) \\text{ subject to } f \\in \\mathcal{F}.$$\n",
        "\n",
        "We know that regularization :cite:`tikhonov1977solutions,morozov2012methods` may control complexity of $\\mathcal{F}$\n",
        "and achieve consistency, so a larger size of training data\n",
        "generally leads to better $f^*_\\mathcal{F}$.\n",
        "It is only reasonable to assume that if we design a different and more powerful architecture $\\mathcal{F}'$ we should arrive at a better outcome. In other words, we would expect that $f^*_{\\mathcal{F}'}$ is \"better\" than $f^*_{\\mathcal{F}}$. However, if $\\mathcal{F} \\not\\subseteq \\mathcal{F}'$ there is no guarantee that this should even happen. In fact, $f^*_{\\mathcal{F}'}$ might well be worse.\n",
        "As illustrated by :numref:`fig_functionclasses`,\n",
        "for non-nested function classes, a larger function class does not always move closer to the \"truth\" function $f^*$. For instance,\n",
        "on the left of :numref:`fig_functionclasses`,\n",
        "though $\\mathcal{F}_3$ is closer to $f^*$ than $\\mathcal{F}_1$, $\\mathcal{F}_6$ moves away and there is no guarantee that further increasing the complexity can reduce the distance from $f^*$.\n",
        "With nested function classes\n",
        "where $\\mathcal{F}_1 \\subseteq \\ldots \\subseteq \\mathcal{F}_6$\n",
        "on the right of :numref:`fig_functionclasses`,\n",
        "we can avoid the aforementioned issue from the non-nested function classes.\n",
        "\n",
        "\n",
        "![For non-nested function classes, a larger (indicated by area) function class does not guarantee to get closer to the \"truth\" function ($f^*$). This does not happen in nested function classes.](http://d2l.ai/_images/functionclasses.svg)\n",
        ":label:`fig_functionclasses`\n",
        "\n",
        "Thus,\n",
        "only if larger function classes contain the smaller ones are we guaranteed that increasing them strictly increases the expressive power of the network.\n",
        "For deep neural networks,\n",
        "if we can\n",
        "train the newly-added layer into an identity function $f(\\mathbf{x}) = \\mathbf{x}$, the new model will be as effective as the original model. As the new model may get a better solution to fit the training dataset, the added layer might make it easier to reduce training errors.\n",
        "\n",
        "This is the question that :cite:`He.Zhang.Ren.ea.2016` considered when working on very deep computer vision models.\n",
        "At the heart of their proposed *residual network* (*ResNet*) is the idea that every additional layer should\n",
        "more easily\n",
        "contain the identity function as one of its elements.\n",
        "These considerations are rather profound but they led to a surprisingly simple\n",
        "solution, a *residual block*.\n",
        "With it, ResNet won the ImageNet Large Scale Visual Recognition Challenge in 2015. The design had a profound influence on how to\n",
        "build deep neural networks. For instance, residual blocks have been added to recurrent networks :cite:`prakash2016neural,kim2017residual`. Likewise, transformers :cite:`Vaswani.Shazeer.Parmar.ea.2017` use them to stack many layers of networks efficiently. It is also used in graph neural networks :cite:`Kipf.Welling.2016` and, as a basic concept, it has been used extensively in computer vision :cite:`Redmon.Farhadi.2018,Ren.He.Girshick.ea.2015`. \n",
        "Note that residual networks are predated by highway networks :cite:`srivastava2015highway` that share some of the motivation, albeit without the elegant parametrization around the identity function.\n",
        "\n",
        "\n",
        "## (**Residual Blocks**)\n",
        ":label:`subsec_residual-blks`\n",
        "\n",
        "Let's focus on a local part of a neural network, as depicted in :numref:`fig_residual_block`. Denote the input by $\\mathbf{x}$.\n",
        "We assume that the desired underlying mapping we want to obtain by learning is $f(\\mathbf{x})$, to be used as input to the activation function on the top.\n",
        "On the left,\n",
        "the portion within the dotted-line box\n",
        "must directly learn the mapping $f(\\mathbf{x})$.\n",
        "On the right,\n",
        "the portion within the dotted-line box\n",
        "needs to\n",
        "learn the *residual mapping* $g(\\mathbf{x}) = f(\\mathbf{x}) - \\mathbf{x}$,\n",
        "which is how the residual block derives its name.\n",
        "If the identity mapping $f(\\mathbf{x}) = \\mathbf{x}$ is the desired underlying mapping,\n",
        "the residual mapping amounts to $g(\\mathbf{x}) = 0$ and it is thus easier to learn:\n",
        "we only need to push the weights and biases\n",
        "of the\n",
        "upper weight layer (e.g., fully connected layer and convolutional layer)\n",
        "within the dotted-line box\n",
        "to zero.\n",
        "The right figure illustrates the *residual block* of ResNet,\n",
        "where the solid line carrying the layer input\n",
        "$\\mathbf{x}$ to the addition operator\n",
        "is called a *residual connection* (or *shortcut connection*).\n",
        "With residual blocks, inputs can\n",
        "forward propagate faster through the residual connections across layers.\n",
        "In fact,\n",
        "the residual block\n",
        "can be thought of as\n",
        "a special case of the multi-branch Inception block:\n",
        "it has two branches\n",
        "one of which is the identity mapping.\n",
        "\n",
        "![In a regular block (left), the portion within the dotted-line box must directly learn the mapping $f(\\mathbf{x})$. In a residual block (right), the portion within the dotted-line box needs to learn the residual mapping $g(\\mathbf{x}) = f(\\mathbf{x}) - \\mathbf{x}$, making the identity mapping $f(\\mathbf{x}) = \\mathbf{x}$ easier to learn.](https://github.com/d2l-ai/d2l-tensorflow-colab/blob/master/img/residual-block.svg?raw=1)\n",
        ":label:`fig_residual_block`\n",
        "\n",
        "\n",
        "ResNet follows VGG's full $3\\times 3$ convolutional layer design. The residual block has two $3\\times 3$ convolutional layers with the same number of output channels. Each convolutional layer is followed by a batch normalization layer and a ReLU activation function. Then, we skip these two convolution operations and add the input directly before the final ReLU activation function.\n",
        "This kind of design requires that the output of the two convolutional layers has to be of the same shape as the input, so that they can be added together. If we want to change the number of channels, we need to introduce an additional $1\\times 1$ convolutional layer to transform the input into the desired shape for the addition operation. Let's have a look at the code below.\n"
      ]
    },
    {
      "cell_type": "code",
      "execution_count": null,
      "id": "67cee6e2",
      "metadata": {
        "execution": {
          "iopub.execute_input": "2022-08-29T23:55:13.874427Z",
          "iopub.status.busy": "2022-08-29T23:55:13.873680Z",
          "iopub.status.idle": "2022-08-29T23:55:16.982122Z",
          "shell.execute_reply": "2022-08-29T23:55:16.980898Z"
        },
        "origin_pos": 4,
        "tab": [
          "tensorflow"
        ],
        "id": "67cee6e2"
      },
      "outputs": [],
      "source": [
        "import tensorflow as tf\n",
        "from d2l import tensorflow as d2l\n",
        "\n",
        "\n",
        "class Residual(tf.keras.Model):  \n",
        "    \"\"\"The Residual block of ResNet.\"\"\"\n",
        "    def __init__(self, num_channels, use_1x1conv=False, strides=1):\n",
        "        super().__init__()\n",
        "        self.conv1 = tf.keras.layers.Conv2D(num_channels, padding='same',\n",
        "                                            kernel_size=3, strides=strides)\n",
        "        self.conv2 = tf.keras.layers.Conv2D(num_channels, kernel_size=3,\n",
        "                                            padding='same')\n",
        "        self.conv3 = None\n",
        "        if use_1x1conv:\n",
        "            self.conv3 = tf.keras.layers.Conv2D(num_channels, kernel_size=1,\n",
        "                                                strides=strides)\n",
        "        self.bn1 = tf.keras.layers.BatchNormalization()\n",
        "        self.bn2 = tf.keras.layers.BatchNormalization()\n",
        "\n",
        "    def call(self, X):\n",
        "        Y = tf.keras.activations.relu(self.bn1(self.conv1(X)))\n",
        "        Y = self.bn2(self.conv2(Y))\n",
        "        if self.conv3 is not None:\n",
        "            X = self.conv3(X)\n",
        "        Y += X\n",
        "        return tf.keras.activations.relu(Y)"
      ]
    },
    {
      "cell_type": "markdown",
      "id": "7ab8b2de",
      "metadata": {
        "origin_pos": 5,
        "id": "7ab8b2de"
      },
      "source": [
        "This code generates two types of networks: one where we add the input to the output before applying the ReLU nonlinearity whenever `use_1x1conv=False`, and one where we adjust channels and resolution by means of a $1 \\times 1$ convolution before adding. :numref:`fig_resnet_block` illustrates this.\n",
        "\n",
        "![ResNet block with and without $1 \\times 1$ convolution, which transforms the input into the desired shape for the addition operation.](https://github.com/d2l-ai/d2l-tensorflow-colab/blob/master/img/resnet-block.svg?raw=1)\n",
        ":label:`fig_resnet_block`\n",
        "\n",
        "Now let's look at [**a situation where the input and output are of the same shape**], where $1 \\times 1$ convolution is not needed.\n"
      ]
    },
    {
      "cell_type": "code",
      "execution_count": null,
      "id": "b9292a38",
      "metadata": {
        "execution": {
          "iopub.execute_input": "2022-08-29T23:55:16.986508Z",
          "iopub.status.busy": "2022-08-29T23:55:16.985853Z",
          "iopub.status.idle": "2022-08-29T23:55:19.513521Z",
          "shell.execute_reply": "2022-08-29T23:55:19.512291Z"
        },
        "origin_pos": 7,
        "tab": [
          "tensorflow"
        ],
        "id": "b9292a38",
        "outputId": "85a08141-1004-47d3-8159-b96aba3dedda",
        "colab": {
          "base_uri": "https://localhost:8080/"
        }
      },
      "outputs": [
        {
          "output_type": "execute_result",
          "data": {
            "text/plain": [
              "TensorShape([4, 6, 6, 3])"
            ]
          },
          "metadata": {},
          "execution_count": 4
        }
      ],
      "source": [
        "blk = Residual(3)\n",
        "X = tf.random.normal((4, 6, 6, 3))\n",
        "Y = blk(X)\n",
        "Y.shape"
      ]
    },
    {
      "cell_type": "markdown",
      "id": "2ea981db",
      "metadata": {
        "origin_pos": 8,
        "id": "2ea981db"
      },
      "source": [
        "We also have the option to [**halve the output height and width while increasing the number of output channels**].\n",
        "In this case we use $1 \\times 1$ convolutions via `use_1x1conv=True`. This comes in handy at the beginning of each ResNet block to reduce the spatial dimensionality via `strides=2`.\n"
      ]
    },
    {
      "cell_type": "code",
      "execution_count": null,
      "id": "91c894ce",
      "metadata": {
        "execution": {
          "iopub.execute_input": "2022-08-29T23:55:19.517422Z",
          "iopub.status.busy": "2022-08-29T23:55:19.516733Z",
          "iopub.status.idle": "2022-08-29T23:55:19.559703Z",
          "shell.execute_reply": "2022-08-29T23:55:19.558458Z"
        },
        "origin_pos": 9,
        "tab": [
          "tensorflow"
        ],
        "id": "91c894ce",
        "outputId": "6b5dfa9b-cc9d-40fb-8a05-299d6b42c5f7",
        "colab": {
          "base_uri": "https://localhost:8080/"
        }
      },
      "outputs": [
        {
          "output_type": "execute_result",
          "data": {
            "text/plain": [
              "TensorShape([4, 3, 3, 6])"
            ]
          },
          "metadata": {},
          "execution_count": 5
        }
      ],
      "source": [
        "blk = Residual(6, use_1x1conv=True, strides=2)\n",
        "blk(X).shape"
      ]
    },
    {
      "cell_type": "markdown",
      "id": "ddba9f76",
      "metadata": {
        "origin_pos": 10,
        "id": "ddba9f76"
      },
      "source": [
        "## [**ResNet Model**]\n",
        "\n",
        "The first two layers of ResNet are the same as those of the GoogLeNet we described before: the $7\\times 7$ convolutional layer with 64 output channels and a stride of 2 is followed by the $3\\times 3$ max-pooling layer with a stride of 2. The difference is the batch normalization layer added after each convolutional layer in ResNet.\n"
      ]
    },
    {
      "cell_type": "code",
      "execution_count": null,
      "id": "16c9f22a",
      "metadata": {
        "execution": {
          "iopub.execute_input": "2022-08-29T23:55:19.563996Z",
          "iopub.status.busy": "2022-08-29T23:55:19.563080Z",
          "iopub.status.idle": "2022-08-29T23:55:19.569605Z",
          "shell.execute_reply": "2022-08-29T23:55:19.568441Z"
        },
        "origin_pos": 11,
        "tab": [
          "tensorflow"
        ],
        "id": "16c9f22a"
      },
      "outputs": [],
      "source": [
        "class ResNet(d2l.Classifier):\n",
        "    def b1(self):\n",
        "        return tf.keras.models.Sequential([\n",
        "            tf.keras.layers.Activation('relu'),\n",
        "            tf.keras.layers.BatchNormalization(),\n",
        "            tf.keras.layers.Conv2D(64, kernel_size=7, strides=2,\n",
        "                                   padding='same'),\n",
        "            tf.keras.layers.MaxPool2D(pool_size=3, strides=2,\n",
        "                                      padding='same')])"
      ]
    },
    {
      "cell_type": "markdown",
      "id": "65485193",
      "metadata": {
        "origin_pos": 12,
        "id": "65485193"
      },
      "source": [
        "GoogLeNet uses four modules made up of Inception blocks.\n",
        "However, ResNet uses four modules made up of residual blocks, each of which uses several residual blocks with the same number of output channels.\n",
        "The number of channels in the first module is the same as the number of input channels. Since a max-pooling layer with a stride of 2 has already been used, it is not necessary to reduce the height and width. In the first residual block for each of the subsequent modules, the number of channels is doubled compared with that of the previous module, and the height and width are halved.\n"
      ]
    },
    {
      "cell_type": "code",
      "execution_count": null,
      "id": "cf2895a0",
      "metadata": {
        "execution": {
          "iopub.execute_input": "2022-08-29T23:55:19.573499Z",
          "iopub.status.busy": "2022-08-29T23:55:19.572650Z",
          "iopub.status.idle": "2022-08-29T23:55:19.578908Z",
          "shell.execute_reply": "2022-08-29T23:55:19.577715Z"
        },
        "origin_pos": 15,
        "tab": [
          "tensorflow"
        ],
        "id": "cf2895a0"
      },
      "outputs": [],
      "source": [
        "@d2l.add_to_class(ResNet)\n",
        "def block(self, num_residuals, num_channels, first_block=False):\n",
        "    blk = tf.keras.models.Sequential()\n",
        "    for i in range(num_residuals):\n",
        "        if i == 0 and not first_block:\n",
        "            blk.add(Residual(num_channels, use_1x1conv=True, strides=2))\n",
        "        else:\n",
        "            blk.add(Residual(num_channels))\n",
        "    return blk"
      ]
    },
    {
      "cell_type": "markdown",
      "id": "9238f494",
      "metadata": {
        "origin_pos": 16,
        "id": "9238f494"
      },
      "source": [
        "Then, we add all the modules to ResNet. Here, two residual blocks are used for each module. Lastly, just like GoogLeNet, we add a global average pooling layer, followed by the fully connected layer output.\n"
      ]
    },
    {
      "cell_type": "code",
      "execution_count": null,
      "id": "e254db76",
      "metadata": {
        "execution": {
          "iopub.execute_input": "2022-08-29T23:55:19.582771Z",
          "iopub.status.busy": "2022-08-29T23:55:19.581889Z",
          "iopub.status.idle": "2022-08-29T23:55:19.588858Z",
          "shell.execute_reply": "2022-08-29T23:55:19.587692Z"
        },
        "origin_pos": 17,
        "tab": [
          "tensorflow"
        ],
        "id": "e254db76"
      },
      "outputs": [],
      "source": [
        "@d2l.add_to_class(ResNet)\n",
        "def __init__(self, arch, lr=0.1, num_classes=10):\n",
        "    super(ResNet, self).__init__()\n",
        "    self.save_hyperparameters()\n",
        "    self.net = tf.keras.models.Sequential(self.b1())\n",
        "    for i, b in enumerate(arch):\n",
        "        self.net.add(self.block(*b, first_block=(i==0)))\n",
        "    self.net.add(tf.keras.models.Sequential([\n",
        "        tf.keras.layers.GlobalAvgPool2D(),\n",
        "        tf.keras.layers.Dense(units=num_classes)]))"
      ]
    },
    {
      "cell_type": "markdown",
      "id": "d00377a8",
      "metadata": {
        "origin_pos": 18,
        "id": "d00377a8"
      },
      "source": [
        "There are 4 convolutional layers in each module (excluding the $1\\times 1$ convolutional layer). Together with the first $7\\times 7$ convolutional layer and the final fully connected layer, there are 18 layers in total. Therefore, this model is commonly known as ResNet-18.\n",
        "By configuring different numbers of channels and residual blocks in the module, we can create different ResNet models, such as the deeper 152-layer ResNet-152. Although the main architecture of ResNet is similar to that of GoogLeNet, ResNet's structure is simpler and easier to modify. All these factors have resulted in the rapid and widespread use of ResNet. :numref:`fig_resnet18` depicts the full ResNet-18.\n",
        "\n",
        "![The ResNet-18 architecture.](https://github.com/d2l-ai/d2l-tensorflow-colab/blob/master/img/resnet18-90.svg?raw=1)\n",
        ":label:`fig_resnet18`\n",
        "\n",
        "Before training ResNet, let's [**observe how the input shape changes across different modules in ResNet**]. As in all the previous architectures, the resolution decreases while the number of channels increases up until the point where a global average pooling layer aggregates all features.\n"
      ]
    },
    {
      "cell_type": "code",
      "execution_count": null,
      "id": "940350a6",
      "metadata": {
        "execution": {
          "iopub.execute_input": "2022-08-29T23:55:19.592636Z",
          "iopub.status.busy": "2022-08-29T23:55:19.591848Z",
          "iopub.status.idle": "2022-08-29T23:55:19.597684Z",
          "shell.execute_reply": "2022-08-29T23:55:19.596473Z"
        },
        "origin_pos": 19,
        "tab": [
          "tensorflow"
        ],
        "id": "940350a6"
      },
      "outputs": [],
      "source": [
        "class ResNet18(ResNet):\n",
        "    def __init__(self, lr=0.1, num_classes=10):\n",
        "        super().__init__(((2, 64), (2, 128), (2, 256), (2, 512)),\n",
        "                       lr, num_classes)"
      ]
    },
    {
      "cell_type": "code",
      "execution_count": null,
      "id": "6b521ca3",
      "metadata": {
        "execution": {
          "iopub.execute_input": "2022-08-29T23:55:19.601364Z",
          "iopub.status.busy": "2022-08-29T23:55:19.600575Z",
          "iopub.status.idle": "2022-08-29T23:55:20.265103Z",
          "shell.execute_reply": "2022-08-29T23:55:20.263782Z"
        },
        "origin_pos": 21,
        "tab": [
          "tensorflow"
        ],
        "id": "6b521ca3",
        "outputId": "2f51cc92-25bf-4f35-d7ac-b2b549c0d42c",
        "colab": {
          "base_uri": "https://localhost:8080/"
        }
      },
      "outputs": [
        {
          "output_type": "stream",
          "name": "stdout",
          "text": [
            "Sequential output shape:\t (1, 24, 24, 64)\n",
            "Sequential output shape:\t (1, 24, 24, 64)\n",
            "Sequential output shape:\t (1, 12, 12, 128)\n",
            "Sequential output shape:\t (1, 6, 6, 256)\n",
            "Sequential output shape:\t (1, 3, 3, 512)\n",
            "Sequential output shape:\t (1, 10)\n"
          ]
        }
      ],
      "source": [
        "ResNet18().layer_summary((1, 96, 96, 1))"
      ]
    },
    {
      "cell_type": "markdown",
      "id": "5861fc10",
      "metadata": {
        "origin_pos": 22,
        "id": "5861fc10"
      },
      "source": [
        "## [**Training**]\n",
        "\n",
        "We train ResNet on the Fashion-MNIST dataset, just like before. ResNet is quite a powerful and flexible architecture. The plot capturing training and validation loss illustrates a significant gap between both graphs, with the training loss being significantly lower. For a network of this flexibility, more training data would offer significant benefit in closing the gap and improving accuracy.\n"
      ]
    },
    {
      "cell_type": "code",
      "execution_count": null,
      "id": "a1f85bec",
      "metadata": {
        "execution": {
          "iopub.execute_input": "2022-08-29T23:55:20.269439Z",
          "iopub.status.busy": "2022-08-29T23:55:20.268533Z",
          "iopub.status.idle": "2022-08-30T00:01:25.672955Z",
          "shell.execute_reply": "2022-08-30T00:01:25.672122Z"
        },
        "origin_pos": 24,
        "tab": [
          "tensorflow"
        ],
        "id": "a1f85bec",
        "outputId": "c1b95565-f74f-45af-f3d2-9f6fbf4c61ee",
        "colab": {
          "base_uri": "https://localhost:8080/",
          "height": 262
        }
      },
      "outputs": [
        {
          "output_type": "display_data",
          "data": {
            "text/plain": [
              "<Figure size 252x180 with 1 Axes>"
            ],
            "image/svg+xml": "<?xml version=\"1.0\" encoding=\"utf-8\" standalone=\"no\"?>\n<!DOCTYPE svg PUBLIC \"-//W3C//DTD SVG 1.1//EN\"\n  \"http://www.w3.org/Graphics/SVG/1.1/DTD/svg11.dtd\">\n<!-- Created with matplotlib (https://matplotlib.org/) -->\n<svg height=\"180.65625pt\" version=\"1.1\" viewBox=\"0 0 238.965625 180.65625\" width=\"238.965625pt\" xmlns=\"http://www.w3.org/2000/svg\" xmlns:xlink=\"http://www.w3.org/1999/xlink\">\n <defs>\n  <style type=\"text/css\">\n*{stroke-linecap:butt;stroke-linejoin:round;}\n  </style>\n </defs>\n <g id=\"figure_1\">\n  <g id=\"patch_1\">\n   <path d=\"M 0 180.65625 \nL 238.965625 180.65625 \nL 238.965625 0 \nL 0 0 \nz\n\" style=\"fill:none;\"/>\n  </g>\n  <g id=\"axes_1\">\n   <g id=\"patch_2\">\n    <path d=\"M 30.103125 143.1 \nL 225.403125 143.1 \nL 225.403125 7.2 \nL 30.103125 7.2 \nz\n\" style=\"fill:#ffffff;\"/>\n   </g>\n   <g id=\"matplotlib.axis_1\">\n    <g id=\"xtick_1\">\n     <g id=\"line2d_1\">\n      <defs>\n       <path d=\"M 0 0 \nL 0 3.5 \n\" id=\"m5b7d099c10\" style=\"stroke:#000000;stroke-width:0.8;\"/>\n      </defs>\n      <g>\n       <use style=\"stroke:#000000;stroke-width:0.8;\" x=\"30.103125\" xlink:href=\"#m5b7d099c10\" y=\"143.1\"/>\n      </g>\n     </g>\n     <g id=\"text_1\">\n      <!-- 0 -->\n      <defs>\n       <path d=\"M 31.78125 66.40625 \nQ 24.171875 66.40625 20.328125 58.90625 \nQ 16.5 51.421875 16.5 36.375 \nQ 16.5 21.390625 20.328125 13.890625 \nQ 24.171875 6.390625 31.78125 6.390625 \nQ 39.453125 6.390625 43.28125 13.890625 \nQ 47.125 21.390625 47.125 36.375 \nQ 47.125 51.421875 43.28125 58.90625 \nQ 39.453125 66.40625 31.78125 66.40625 \nz\nM 31.78125 74.21875 \nQ 44.046875 74.21875 50.515625 64.515625 \nQ 56.984375 54.828125 56.984375 36.375 \nQ 56.984375 17.96875 50.515625 8.265625 \nQ 44.046875 -1.421875 31.78125 -1.421875 \nQ 19.53125 -1.421875 13.0625 8.265625 \nQ 6.59375 17.96875 6.59375 36.375 \nQ 6.59375 54.828125 13.0625 64.515625 \nQ 19.53125 74.21875 31.78125 74.21875 \nz\n\" id=\"DejaVuSans-48\"/>\n      </defs>\n      <g transform=\"translate(26.921875 157.698438)scale(0.1 -0.1)\">\n       <use xlink:href=\"#DejaVuSans-48\"/>\n      </g>\n     </g>\n    </g>\n    <g id=\"xtick_2\">\n     <g id=\"line2d_2\">\n      <g>\n       <use style=\"stroke:#000000;stroke-width:0.8;\" x=\"69.163125\" xlink:href=\"#m5b7d099c10\" y=\"143.1\"/>\n      </g>\n     </g>\n     <g id=\"text_2\">\n      <!-- 2 -->\n      <defs>\n       <path d=\"M 19.1875 8.296875 \nL 53.609375 8.296875 \nL 53.609375 0 \nL 7.328125 0 \nL 7.328125 8.296875 \nQ 12.9375 14.109375 22.625 23.890625 \nQ 32.328125 33.6875 34.8125 36.53125 \nQ 39.546875 41.84375 41.421875 45.53125 \nQ 43.3125 49.21875 43.3125 52.78125 \nQ 43.3125 58.59375 39.234375 62.25 \nQ 35.15625 65.921875 28.609375 65.921875 \nQ 23.96875 65.921875 18.8125 64.3125 \nQ 13.671875 62.703125 7.8125 59.421875 \nL 7.8125 69.390625 \nQ 13.765625 71.78125 18.9375 73 \nQ 24.125 74.21875 28.421875 74.21875 \nQ 39.75 74.21875 46.484375 68.546875 \nQ 53.21875 62.890625 53.21875 53.421875 \nQ 53.21875 48.921875 51.53125 44.890625 \nQ 49.859375 40.875 45.40625 35.40625 \nQ 44.1875 33.984375 37.640625 27.21875 \nQ 31.109375 20.453125 19.1875 8.296875 \nz\n\" id=\"DejaVuSans-50\"/>\n      </defs>\n      <g transform=\"translate(65.981875 157.698438)scale(0.1 -0.1)\">\n       <use xlink:href=\"#DejaVuSans-50\"/>\n      </g>\n     </g>\n    </g>\n    <g id=\"xtick_3\">\n     <g id=\"line2d_3\">\n      <g>\n       <use style=\"stroke:#000000;stroke-width:0.8;\" x=\"108.223125\" xlink:href=\"#m5b7d099c10\" y=\"143.1\"/>\n      </g>\n     </g>\n     <g id=\"text_3\">\n      <!-- 4 -->\n      <defs>\n       <path d=\"M 37.796875 64.3125 \nL 12.890625 25.390625 \nL 37.796875 25.390625 \nz\nM 35.203125 72.90625 \nL 47.609375 72.90625 \nL 47.609375 25.390625 \nL 58.015625 25.390625 \nL 58.015625 17.1875 \nL 47.609375 17.1875 \nL 47.609375 0 \nL 37.796875 0 \nL 37.796875 17.1875 \nL 4.890625 17.1875 \nL 4.890625 26.703125 \nz\n\" id=\"DejaVuSans-52\"/>\n      </defs>\n      <g transform=\"translate(105.041875 157.698438)scale(0.1 -0.1)\">\n       <use xlink:href=\"#DejaVuSans-52\"/>\n      </g>\n     </g>\n    </g>\n    <g id=\"xtick_4\">\n     <g id=\"line2d_4\">\n      <g>\n       <use style=\"stroke:#000000;stroke-width:0.8;\" x=\"147.283125\" xlink:href=\"#m5b7d099c10\" y=\"143.1\"/>\n      </g>\n     </g>\n     <g id=\"text_4\">\n      <!-- 6 -->\n      <defs>\n       <path d=\"M 33.015625 40.375 \nQ 26.375 40.375 22.484375 35.828125 \nQ 18.609375 31.296875 18.609375 23.390625 \nQ 18.609375 15.53125 22.484375 10.953125 \nQ 26.375 6.390625 33.015625 6.390625 \nQ 39.65625 6.390625 43.53125 10.953125 \nQ 47.40625 15.53125 47.40625 23.390625 \nQ 47.40625 31.296875 43.53125 35.828125 \nQ 39.65625 40.375 33.015625 40.375 \nz\nM 52.59375 71.296875 \nL 52.59375 62.3125 \nQ 48.875 64.0625 45.09375 64.984375 \nQ 41.3125 65.921875 37.59375 65.921875 \nQ 27.828125 65.921875 22.671875 59.328125 \nQ 17.53125 52.734375 16.796875 39.40625 \nQ 19.671875 43.65625 24.015625 45.921875 \nQ 28.375 48.1875 33.59375 48.1875 \nQ 44.578125 48.1875 50.953125 41.515625 \nQ 57.328125 34.859375 57.328125 23.390625 \nQ 57.328125 12.15625 50.6875 5.359375 \nQ 44.046875 -1.421875 33.015625 -1.421875 \nQ 20.359375 -1.421875 13.671875 8.265625 \nQ 6.984375 17.96875 6.984375 36.375 \nQ 6.984375 53.65625 15.1875 63.9375 \nQ 23.390625 74.21875 37.203125 74.21875 \nQ 40.921875 74.21875 44.703125 73.484375 \nQ 48.484375 72.75 52.59375 71.296875 \nz\n\" id=\"DejaVuSans-54\"/>\n      </defs>\n      <g transform=\"translate(144.101875 157.698438)scale(0.1 -0.1)\">\n       <use xlink:href=\"#DejaVuSans-54\"/>\n      </g>\n     </g>\n    </g>\n    <g id=\"xtick_5\">\n     <g id=\"line2d_5\">\n      <g>\n       <use style=\"stroke:#000000;stroke-width:0.8;\" x=\"186.343125\" xlink:href=\"#m5b7d099c10\" y=\"143.1\"/>\n      </g>\n     </g>\n     <g id=\"text_5\">\n      <!-- 8 -->\n      <defs>\n       <path d=\"M 31.78125 34.625 \nQ 24.75 34.625 20.71875 30.859375 \nQ 16.703125 27.09375 16.703125 20.515625 \nQ 16.703125 13.921875 20.71875 10.15625 \nQ 24.75 6.390625 31.78125 6.390625 \nQ 38.8125 6.390625 42.859375 10.171875 \nQ 46.921875 13.96875 46.921875 20.515625 \nQ 46.921875 27.09375 42.890625 30.859375 \nQ 38.875 34.625 31.78125 34.625 \nz\nM 21.921875 38.8125 \nQ 15.578125 40.375 12.03125 44.71875 \nQ 8.5 49.078125 8.5 55.328125 \nQ 8.5 64.0625 14.71875 69.140625 \nQ 20.953125 74.21875 31.78125 74.21875 \nQ 42.671875 74.21875 48.875 69.140625 \nQ 55.078125 64.0625 55.078125 55.328125 \nQ 55.078125 49.078125 51.53125 44.71875 \nQ 48 40.375 41.703125 38.8125 \nQ 48.828125 37.15625 52.796875 32.3125 \nQ 56.78125 27.484375 56.78125 20.515625 \nQ 56.78125 9.90625 50.3125 4.234375 \nQ 43.84375 -1.421875 31.78125 -1.421875 \nQ 19.734375 -1.421875 13.25 4.234375 \nQ 6.78125 9.90625 6.78125 20.515625 \nQ 6.78125 27.484375 10.78125 32.3125 \nQ 14.796875 37.15625 21.921875 38.8125 \nz\nM 18.3125 54.390625 \nQ 18.3125 48.734375 21.84375 45.5625 \nQ 25.390625 42.390625 31.78125 42.390625 \nQ 38.140625 42.390625 41.71875 45.5625 \nQ 45.3125 48.734375 45.3125 54.390625 \nQ 45.3125 60.0625 41.71875 63.234375 \nQ 38.140625 66.40625 31.78125 66.40625 \nQ 25.390625 66.40625 21.84375 63.234375 \nQ 18.3125 60.0625 18.3125 54.390625 \nz\n\" id=\"DejaVuSans-56\"/>\n      </defs>\n      <g transform=\"translate(183.161875 157.698438)scale(0.1 -0.1)\">\n       <use xlink:href=\"#DejaVuSans-56\"/>\n      </g>\n     </g>\n    </g>\n    <g id=\"xtick_6\">\n     <g id=\"line2d_6\">\n      <g>\n       <use style=\"stroke:#000000;stroke-width:0.8;\" x=\"225.403125\" xlink:href=\"#m5b7d099c10\" y=\"143.1\"/>\n      </g>\n     </g>\n     <g id=\"text_6\">\n      <!-- 10 -->\n      <defs>\n       <path d=\"M 12.40625 8.296875 \nL 28.515625 8.296875 \nL 28.515625 63.921875 \nL 10.984375 60.40625 \nL 10.984375 69.390625 \nL 28.421875 72.90625 \nL 38.28125 72.90625 \nL 38.28125 8.296875 \nL 54.390625 8.296875 \nL 54.390625 0 \nL 12.40625 0 \nz\n\" id=\"DejaVuSans-49\"/>\n      </defs>\n      <g transform=\"translate(219.040625 157.698438)scale(0.1 -0.1)\">\n       <use xlink:href=\"#DejaVuSans-49\"/>\n       <use x=\"63.623047\" xlink:href=\"#DejaVuSans-48\"/>\n      </g>\n     </g>\n    </g>\n    <g id=\"text_7\">\n     <!-- epoch -->\n     <defs>\n      <path d=\"M 56.203125 29.59375 \nL 56.203125 25.203125 \nL 14.890625 25.203125 \nQ 15.484375 15.921875 20.484375 11.0625 \nQ 25.484375 6.203125 34.421875 6.203125 \nQ 39.59375 6.203125 44.453125 7.46875 \nQ 49.3125 8.734375 54.109375 11.28125 \nL 54.109375 2.78125 \nQ 49.265625 0.734375 44.1875 -0.34375 \nQ 39.109375 -1.421875 33.890625 -1.421875 \nQ 20.796875 -1.421875 13.15625 6.1875 \nQ 5.515625 13.8125 5.515625 26.8125 \nQ 5.515625 40.234375 12.765625 48.109375 \nQ 20.015625 56 32.328125 56 \nQ 43.359375 56 49.78125 48.890625 \nQ 56.203125 41.796875 56.203125 29.59375 \nz\nM 47.21875 32.234375 \nQ 47.125 39.59375 43.09375 43.984375 \nQ 39.0625 48.390625 32.421875 48.390625 \nQ 24.90625 48.390625 20.390625 44.140625 \nQ 15.875 39.890625 15.1875 32.171875 \nz\n\" id=\"DejaVuSans-101\"/>\n      <path d=\"M 18.109375 8.203125 \nL 18.109375 -20.796875 \nL 9.078125 -20.796875 \nL 9.078125 54.6875 \nL 18.109375 54.6875 \nL 18.109375 46.390625 \nQ 20.953125 51.265625 25.265625 53.625 \nQ 29.59375 56 35.59375 56 \nQ 45.5625 56 51.78125 48.09375 \nQ 58.015625 40.1875 58.015625 27.296875 \nQ 58.015625 14.40625 51.78125 6.484375 \nQ 45.5625 -1.421875 35.59375 -1.421875 \nQ 29.59375 -1.421875 25.265625 0.953125 \nQ 20.953125 3.328125 18.109375 8.203125 \nz\nM 48.6875 27.296875 \nQ 48.6875 37.203125 44.609375 42.84375 \nQ 40.53125 48.484375 33.40625 48.484375 \nQ 26.265625 48.484375 22.1875 42.84375 \nQ 18.109375 37.203125 18.109375 27.296875 \nQ 18.109375 17.390625 22.1875 11.75 \nQ 26.265625 6.109375 33.40625 6.109375 \nQ 40.53125 6.109375 44.609375 11.75 \nQ 48.6875 17.390625 48.6875 27.296875 \nz\n\" id=\"DejaVuSans-112\"/>\n      <path d=\"M 30.609375 48.390625 \nQ 23.390625 48.390625 19.1875 42.75 \nQ 14.984375 37.109375 14.984375 27.296875 \nQ 14.984375 17.484375 19.15625 11.84375 \nQ 23.34375 6.203125 30.609375 6.203125 \nQ 37.796875 6.203125 41.984375 11.859375 \nQ 46.1875 17.53125 46.1875 27.296875 \nQ 46.1875 37.015625 41.984375 42.703125 \nQ 37.796875 48.390625 30.609375 48.390625 \nz\nM 30.609375 56 \nQ 42.328125 56 49.015625 48.375 \nQ 55.71875 40.765625 55.71875 27.296875 \nQ 55.71875 13.875 49.015625 6.21875 \nQ 42.328125 -1.421875 30.609375 -1.421875 \nQ 18.84375 -1.421875 12.171875 6.21875 \nQ 5.515625 13.875 5.515625 27.296875 \nQ 5.515625 40.765625 12.171875 48.375 \nQ 18.84375 56 30.609375 56 \nz\n\" id=\"DejaVuSans-111\"/>\n      <path d=\"M 48.78125 52.59375 \nL 48.78125 44.1875 \nQ 44.96875 46.296875 41.140625 47.34375 \nQ 37.3125 48.390625 33.40625 48.390625 \nQ 24.65625 48.390625 19.8125 42.84375 \nQ 14.984375 37.3125 14.984375 27.296875 \nQ 14.984375 17.28125 19.8125 11.734375 \nQ 24.65625 6.203125 33.40625 6.203125 \nQ 37.3125 6.203125 41.140625 7.25 \nQ 44.96875 8.296875 48.78125 10.40625 \nL 48.78125 2.09375 \nQ 45.015625 0.34375 40.984375 -0.53125 \nQ 36.96875 -1.421875 32.421875 -1.421875 \nQ 20.0625 -1.421875 12.78125 6.34375 \nQ 5.515625 14.109375 5.515625 27.296875 \nQ 5.515625 40.671875 12.859375 48.328125 \nQ 20.21875 56 33.015625 56 \nQ 37.15625 56 41.109375 55.140625 \nQ 45.0625 54.296875 48.78125 52.59375 \nz\n\" id=\"DejaVuSans-99\"/>\n      <path d=\"M 54.890625 33.015625 \nL 54.890625 0 \nL 45.90625 0 \nL 45.90625 32.71875 \nQ 45.90625 40.484375 42.875 44.328125 \nQ 39.84375 48.1875 33.796875 48.1875 \nQ 26.515625 48.1875 22.3125 43.546875 \nQ 18.109375 38.921875 18.109375 30.90625 \nL 18.109375 0 \nL 9.078125 0 \nL 9.078125 75.984375 \nL 18.109375 75.984375 \nL 18.109375 46.1875 \nQ 21.34375 51.125 25.703125 53.5625 \nQ 30.078125 56 35.796875 56 \nQ 45.21875 56 50.046875 50.171875 \nQ 54.890625 44.34375 54.890625 33.015625 \nz\n\" id=\"DejaVuSans-104\"/>\n     </defs>\n     <g transform=\"translate(112.525 171.376563)scale(0.1 -0.1)\">\n      <use xlink:href=\"#DejaVuSans-101\"/>\n      <use x=\"61.523438\" xlink:href=\"#DejaVuSans-112\"/>\n      <use x=\"125\" xlink:href=\"#DejaVuSans-111\"/>\n      <use x=\"186.181641\" xlink:href=\"#DejaVuSans-99\"/>\n      <use x=\"241.162109\" xlink:href=\"#DejaVuSans-104\"/>\n     </g>\n    </g>\n   </g>\n   <g id=\"matplotlib.axis_2\">\n    <g id=\"ytick_1\">\n     <g id=\"line2d_7\">\n      <defs>\n       <path d=\"M 0 0 \nL -3.5 0 \n\" id=\"m239cd3e53b\" style=\"stroke:#000000;stroke-width:0.8;\"/>\n      </defs>\n      <g>\n       <use style=\"stroke:#000000;stroke-width:0.8;\" x=\"30.103125\" xlink:href=\"#m239cd3e53b\" y=\"117.418769\"/>\n      </g>\n     </g>\n     <g id=\"text_8\">\n      <!-- 0.5 -->\n      <defs>\n       <path d=\"M 10.6875 12.40625 \nL 21 12.40625 \nL 21 0 \nL 10.6875 0 \nz\n\" id=\"DejaVuSans-46\"/>\n       <path d=\"M 10.796875 72.90625 \nL 49.515625 72.90625 \nL 49.515625 64.59375 \nL 19.828125 64.59375 \nL 19.828125 46.734375 \nQ 21.96875 47.46875 24.109375 47.828125 \nQ 26.265625 48.1875 28.421875 48.1875 \nQ 40.625 48.1875 47.75 41.5 \nQ 54.890625 34.8125 54.890625 23.390625 \nQ 54.890625 11.625 47.5625 5.09375 \nQ 40.234375 -1.421875 26.90625 -1.421875 \nQ 22.3125 -1.421875 17.546875 -0.640625 \nQ 12.796875 0.140625 7.71875 1.703125 \nL 7.71875 11.625 \nQ 12.109375 9.234375 16.796875 8.0625 \nQ 21.484375 6.890625 26.703125 6.890625 \nQ 35.15625 6.890625 40.078125 11.328125 \nQ 45.015625 15.765625 45.015625 23.390625 \nQ 45.015625 31 40.078125 35.4375 \nQ 35.15625 39.890625 26.703125 39.890625 \nQ 22.75 39.890625 18.8125 39.015625 \nQ 14.890625 38.140625 10.796875 36.28125 \nz\n\" id=\"DejaVuSans-53\"/>\n      </defs>\n      <g transform=\"translate(7.2 121.217988)scale(0.1 -0.1)\">\n       <use xlink:href=\"#DejaVuSans-48\"/>\n       <use x=\"63.623047\" xlink:href=\"#DejaVuSans-46\"/>\n       <use x=\"95.410156\" xlink:href=\"#DejaVuSans-53\"/>\n      </g>\n     </g>\n    </g>\n    <g id=\"ytick_2\">\n     <g id=\"line2d_8\">\n      <g>\n       <use style=\"stroke:#000000;stroke-width:0.8;\" x=\"30.103125\" xlink:href=\"#m239cd3e53b\" y=\"72.605691\"/>\n      </g>\n     </g>\n     <g id=\"text_9\">\n      <!-- 1.0 -->\n      <g transform=\"translate(7.2 76.404909)scale(0.1 -0.1)\">\n       <use xlink:href=\"#DejaVuSans-49\"/>\n       <use x=\"63.623047\" xlink:href=\"#DejaVuSans-46\"/>\n       <use x=\"95.410156\" xlink:href=\"#DejaVuSans-48\"/>\n      </g>\n     </g>\n    </g>\n    <g id=\"ytick_3\">\n     <g id=\"line2d_9\">\n      <g>\n       <use style=\"stroke:#000000;stroke-width:0.8;\" x=\"30.103125\" xlink:href=\"#m239cd3e53b\" y=\"27.792613\"/>\n      </g>\n     </g>\n     <g id=\"text_10\">\n      <!-- 1.5 -->\n      <g transform=\"translate(7.2 31.591831)scale(0.1 -0.1)\">\n       <use xlink:href=\"#DejaVuSans-49\"/>\n       <use x=\"63.623047\" xlink:href=\"#DejaVuSans-46\"/>\n       <use x=\"95.410156\" xlink:href=\"#DejaVuSans-53\"/>\n      </g>\n     </g>\n    </g>\n   </g>\n   <g id=\"line2d_10\">\n    <path clip-path=\"url(#p15b2265bc7)\" d=\"M 34.954394 13.377273 \n\" style=\"fill:none;stroke:#1f77b4;stroke-linecap:square;stroke-width:1.5;\"/>\n   </g>\n   <g id=\"line2d_11\">\n    <path clip-path=\"url(#p15b2265bc7)\" d=\"M 34.954394 13.377273 \nL 44.698573 94.116486 \n\" style=\"fill:none;stroke:#1f77b4;stroke-linecap:square;stroke-width:1.5;\"/>\n   </g>\n   <g id=\"line2d_12\">\n    <path clip-path=\"url(#p15b2265bc7)\" d=\"M 34.954394 13.377273 \nL 44.698573 94.116486 \n\" style=\"fill:none;stroke:#1f77b4;stroke-linecap:square;stroke-width:1.5;\"/>\n   </g>\n   <g id=\"line2d_13\">\n    <path clip-path=\"url(#p15b2265bc7)\" d=\"M 49.633125 97.441189 \n\" style=\"fill:none;stroke:#ff7f0e;stroke-dasharray:5.55,2.4;stroke-dashoffset:0;stroke-width:1.5;\"/>\n   </g>\n   <g id=\"line2d_14\"/>\n   <g id=\"line2d_15\">\n    <path clip-path=\"url(#p15b2265bc7)\" d=\"M 34.954394 13.377273 \nL 44.698573 94.116486 \n\" style=\"fill:none;stroke:#1f77b4;stroke-linecap:square;stroke-width:1.5;\"/>\n   </g>\n   <g id=\"line2d_16\">\n    <path clip-path=\"url(#p15b2265bc7)\" d=\"M 49.633125 97.441189 \n\" style=\"fill:none;stroke:#ff7f0e;stroke-dasharray:5.55,2.4;stroke-dashoffset:0;stroke-width:1.5;\"/>\n   </g>\n   <g id=\"line2d_17\">\n    <path clip-path=\"url(#p15b2265bc7)\" d=\"M 49.633125 94.542472 \n\" style=\"fill:none;stroke:#2ca02c;stroke-dasharray:9.6,2.4,1.5,2.4;stroke-dashoffset:0;stroke-width:1.5;\"/>\n   </g>\n   <g id=\"line2d_18\">\n    <path clip-path=\"url(#p15b2265bc7)\" d=\"M 34.954394 13.377273 \nL 44.698573 94.116486 \nL 54.442752 109.422225 \n\" style=\"fill:none;stroke:#1f77b4;stroke-linecap:square;stroke-width:1.5;\"/>\n   </g>\n   <g id=\"line2d_19\">\n    <path clip-path=\"url(#p15b2265bc7)\" d=\"M 49.633125 97.441189 \n\" style=\"fill:none;stroke:#ff7f0e;stroke-dasharray:5.55,2.4;stroke-dashoffset:0;stroke-width:1.5;\"/>\n   </g>\n   <g id=\"line2d_20\">\n    <path clip-path=\"url(#p15b2265bc7)\" d=\"M 49.633125 94.542472 \n\" style=\"fill:none;stroke:#2ca02c;stroke-dasharray:9.6,2.4,1.5,2.4;stroke-dashoffset:0;stroke-width:1.5;\"/>\n   </g>\n   <g id=\"line2d_21\">\n    <path clip-path=\"url(#p15b2265bc7)\" d=\"M 34.954394 13.377273 \nL 44.698573 94.116486 \nL 54.442752 109.422225 \nL 64.186931 116.877167 \n\" style=\"fill:none;stroke:#1f77b4;stroke-linecap:square;stroke-width:1.5;\"/>\n   </g>\n   <g id=\"line2d_22\">\n    <path clip-path=\"url(#p15b2265bc7)\" d=\"M 49.633125 97.441189 \n\" style=\"fill:none;stroke:#ff7f0e;stroke-dasharray:5.55,2.4;stroke-dashoffset:0;stroke-width:1.5;\"/>\n   </g>\n   <g id=\"line2d_23\">\n    <path clip-path=\"url(#p15b2265bc7)\" d=\"M 49.633125 94.542472 \n\" style=\"fill:none;stroke:#2ca02c;stroke-dasharray:9.6,2.4,1.5,2.4;stroke-dashoffset:0;stroke-width:1.5;\"/>\n   </g>\n   <g id=\"line2d_24\">\n    <path clip-path=\"url(#p15b2265bc7)\" d=\"M 34.954394 13.377273 \nL 44.698573 94.116486 \nL 54.442752 109.422225 \nL 64.186931 116.877167 \n\" style=\"fill:none;stroke:#1f77b4;stroke-linecap:square;stroke-width:1.5;\"/>\n   </g>\n   <g id=\"line2d_25\">\n    <path clip-path=\"url(#p15b2265bc7)\" d=\"M 49.633125 97.441189 \nL 69.163125 115.890989 \n\" style=\"fill:none;stroke:#ff7f0e;stroke-dasharray:5.55,2.4;stroke-dashoffset:0;stroke-width:1.5;\"/>\n   </g>\n   <g id=\"line2d_26\">\n    <path clip-path=\"url(#p15b2265bc7)\" d=\"M 49.633125 94.542472 \n\" style=\"fill:none;stroke:#2ca02c;stroke-dasharray:9.6,2.4,1.5,2.4;stroke-dashoffset:0;stroke-width:1.5;\"/>\n   </g>\n   <g id=\"line2d_27\">\n    <path clip-path=\"url(#p15b2265bc7)\" d=\"M 34.954394 13.377273 \nL 44.698573 94.116486 \nL 54.442752 109.422225 \nL 64.186931 116.877167 \n\" style=\"fill:none;stroke:#1f77b4;stroke-linecap:square;stroke-width:1.5;\"/>\n   </g>\n   <g id=\"line2d_28\">\n    <path clip-path=\"url(#p15b2265bc7)\" d=\"M 49.633125 97.441189 \nL 69.163125 115.890989 \n\" style=\"fill:none;stroke:#ff7f0e;stroke-dasharray:5.55,2.4;stroke-dashoffset:0;stroke-width:1.5;\"/>\n   </g>\n   <g id=\"line2d_29\">\n    <path clip-path=\"url(#p15b2265bc7)\" d=\"M 49.633125 94.542472 \nL 69.163125 90.624873 \n\" style=\"fill:none;stroke:#2ca02c;stroke-dasharray:9.6,2.4,1.5,2.4;stroke-dashoffset:0;stroke-width:1.5;\"/>\n   </g>\n   <g id=\"line2d_30\">\n    <path clip-path=\"url(#p15b2265bc7)\" d=\"M 34.954394 13.377273 \nL 44.698573 94.116486 \nL 54.442752 109.422225 \nL 64.186931 116.877167 \nL 73.93111 119.859269 \n\" style=\"fill:none;stroke:#1f77b4;stroke-linecap:square;stroke-width:1.5;\"/>\n   </g>\n   <g id=\"line2d_31\">\n    <path clip-path=\"url(#p15b2265bc7)\" d=\"M 49.633125 97.441189 \nL 69.163125 115.890989 \n\" style=\"fill:none;stroke:#ff7f0e;stroke-dasharray:5.55,2.4;stroke-dashoffset:0;stroke-width:1.5;\"/>\n   </g>\n   <g id=\"line2d_32\">\n    <path clip-path=\"url(#p15b2265bc7)\" d=\"M 49.633125 94.542472 \nL 69.163125 90.624873 \n\" style=\"fill:none;stroke:#2ca02c;stroke-dasharray:9.6,2.4,1.5,2.4;stroke-dashoffset:0;stroke-width:1.5;\"/>\n   </g>\n   <g id=\"line2d_33\">\n    <path clip-path=\"url(#p15b2265bc7)\" d=\"M 34.954394 13.377273 \nL 44.698573 94.116486 \nL 54.442752 109.422225 \nL 64.186931 116.877167 \nL 73.93111 119.859269 \nL 83.675289 123.373121 \n\" style=\"fill:none;stroke:#1f77b4;stroke-linecap:square;stroke-width:1.5;\"/>\n   </g>\n   <g id=\"line2d_34\">\n    <path clip-path=\"url(#p15b2265bc7)\" d=\"M 49.633125 97.441189 \nL 69.163125 115.890989 \n\" style=\"fill:none;stroke:#ff7f0e;stroke-dasharray:5.55,2.4;stroke-dashoffset:0;stroke-width:1.5;\"/>\n   </g>\n   <g id=\"line2d_35\">\n    <path clip-path=\"url(#p15b2265bc7)\" d=\"M 49.633125 94.542472 \nL 69.163125 90.624873 \n\" style=\"fill:none;stroke:#2ca02c;stroke-dasharray:9.6,2.4,1.5,2.4;stroke-dashoffset:0;stroke-width:1.5;\"/>\n   </g>\n   <g id=\"line2d_36\">\n    <path clip-path=\"url(#p15b2265bc7)\" d=\"M 34.954394 13.377273 \nL 44.698573 94.116486 \nL 54.442752 109.422225 \nL 64.186931 116.877167 \nL 73.93111 119.859269 \nL 83.675289 123.373121 \n\" style=\"fill:none;stroke:#1f77b4;stroke-linecap:square;stroke-width:1.5;\"/>\n   </g>\n   <g id=\"line2d_37\">\n    <path clip-path=\"url(#p15b2265bc7)\" d=\"M 49.633125 97.441189 \nL 69.163125 115.890989 \nL 88.693125 120.580856 \n\" style=\"fill:none;stroke:#ff7f0e;stroke-dasharray:5.55,2.4;stroke-dashoffset:0;stroke-width:1.5;\"/>\n   </g>\n   <g id=\"line2d_38\">\n    <path clip-path=\"url(#p15b2265bc7)\" d=\"M 49.633125 94.542472 \nL 69.163125 90.624873 \n\" style=\"fill:none;stroke:#2ca02c;stroke-dasharray:9.6,2.4,1.5,2.4;stroke-dashoffset:0;stroke-width:1.5;\"/>\n   </g>\n   <g id=\"line2d_39\">\n    <path clip-path=\"url(#p15b2265bc7)\" d=\"M 34.954394 13.377273 \nL 44.698573 94.116486 \nL 54.442752 109.422225 \nL 64.186931 116.877167 \nL 73.93111 119.859269 \nL 83.675289 123.373121 \n\" style=\"fill:none;stroke:#1f77b4;stroke-linecap:square;stroke-width:1.5;\"/>\n   </g>\n   <g id=\"line2d_40\">\n    <path clip-path=\"url(#p15b2265bc7)\" d=\"M 49.633125 97.441189 \nL 69.163125 115.890989 \nL 88.693125 120.580856 \n\" style=\"fill:none;stroke:#ff7f0e;stroke-dasharray:5.55,2.4;stroke-dashoffset:0;stroke-width:1.5;\"/>\n   </g>\n   <g id=\"line2d_41\">\n    <path clip-path=\"url(#p15b2265bc7)\" d=\"M 49.633125 94.542472 \nL 69.163125 90.624873 \nL 88.693125 87.903826 \n\" style=\"fill:none;stroke:#2ca02c;stroke-dasharray:9.6,2.4,1.5,2.4;stroke-dashoffset:0;stroke-width:1.5;\"/>\n   </g>\n   <g id=\"line2d_42\">\n    <path clip-path=\"url(#p15b2265bc7)\" d=\"M 34.954394 13.377273 \nL 44.698573 94.116486 \nL 54.442752 109.422225 \nL 64.186931 116.877167 \nL 73.93111 119.859269 \nL 83.675289 123.373121 \nL 93.419468 124.836145 \n\" style=\"fill:none;stroke:#1f77b4;stroke-linecap:square;stroke-width:1.5;\"/>\n   </g>\n   <g id=\"line2d_43\">\n    <path clip-path=\"url(#p15b2265bc7)\" d=\"M 49.633125 97.441189 \nL 69.163125 115.890989 \nL 88.693125 120.580856 \n\" style=\"fill:none;stroke:#ff7f0e;stroke-dasharray:5.55,2.4;stroke-dashoffset:0;stroke-width:1.5;\"/>\n   </g>\n   <g id=\"line2d_44\">\n    <path clip-path=\"url(#p15b2265bc7)\" d=\"M 49.633125 94.542472 \nL 69.163125 90.624873 \nL 88.693125 87.903826 \n\" style=\"fill:none;stroke:#2ca02c;stroke-dasharray:9.6,2.4,1.5,2.4;stroke-dashoffset:0;stroke-width:1.5;\"/>\n   </g>\n   <g id=\"line2d_45\">\n    <path clip-path=\"url(#p15b2265bc7)\" d=\"M 34.954394 13.377273 \nL 44.698573 94.116486 \nL 54.442752 109.422225 \nL 64.186931 116.877167 \nL 73.93111 119.859269 \nL 83.675289 123.373121 \nL 93.419468 124.836145 \nL 103.163647 126.952367 \n\" style=\"fill:none;stroke:#1f77b4;stroke-linecap:square;stroke-width:1.5;\"/>\n   </g>\n   <g id=\"line2d_46\">\n    <path clip-path=\"url(#p15b2265bc7)\" d=\"M 49.633125 97.441189 \nL 69.163125 115.890989 \nL 88.693125 120.580856 \n\" style=\"fill:none;stroke:#ff7f0e;stroke-dasharray:5.55,2.4;stroke-dashoffset:0;stroke-width:1.5;\"/>\n   </g>\n   <g id=\"line2d_47\">\n    <path clip-path=\"url(#p15b2265bc7)\" d=\"M 49.633125 94.542472 \nL 69.163125 90.624873 \nL 88.693125 87.903826 \n\" style=\"fill:none;stroke:#2ca02c;stroke-dasharray:9.6,2.4,1.5,2.4;stroke-dashoffset:0;stroke-width:1.5;\"/>\n   </g>\n   <g id=\"line2d_48\">\n    <path clip-path=\"url(#p15b2265bc7)\" d=\"M 34.954394 13.377273 \nL 44.698573 94.116486 \nL 54.442752 109.422225 \nL 64.186931 116.877167 \nL 73.93111 119.859269 \nL 83.675289 123.373121 \nL 93.419468 124.836145 \nL 103.163647 126.952367 \n\" style=\"fill:none;stroke:#1f77b4;stroke-linecap:square;stroke-width:1.5;\"/>\n   </g>\n   <g id=\"line2d_49\">\n    <path clip-path=\"url(#p15b2265bc7)\" d=\"M 49.633125 97.441189 \nL 69.163125 115.890989 \nL 88.693125 120.580856 \nL 108.223125 126.236474 \n\" style=\"fill:none;stroke:#ff7f0e;stroke-dasharray:5.55,2.4;stroke-dashoffset:0;stroke-width:1.5;\"/>\n   </g>\n   <g id=\"line2d_50\">\n    <path clip-path=\"url(#p15b2265bc7)\" d=\"M 49.633125 94.542472 \nL 69.163125 90.624873 \nL 88.693125 87.903826 \n\" style=\"fill:none;stroke:#2ca02c;stroke-dasharray:9.6,2.4,1.5,2.4;stroke-dashoffset:0;stroke-width:1.5;\"/>\n   </g>\n   <g id=\"line2d_51\">\n    <path clip-path=\"url(#p15b2265bc7)\" d=\"M 34.954394 13.377273 \nL 44.698573 94.116486 \nL 54.442752 109.422225 \nL 64.186931 116.877167 \nL 73.93111 119.859269 \nL 83.675289 123.373121 \nL 93.419468 124.836145 \nL 103.163647 126.952367 \n\" style=\"fill:none;stroke:#1f77b4;stroke-linecap:square;stroke-width:1.5;\"/>\n   </g>\n   <g id=\"line2d_52\">\n    <path clip-path=\"url(#p15b2265bc7)\" d=\"M 49.633125 97.441189 \nL 69.163125 115.890989 \nL 88.693125 120.580856 \nL 108.223125 126.236474 \n\" style=\"fill:none;stroke:#ff7f0e;stroke-dasharray:5.55,2.4;stroke-dashoffset:0;stroke-width:1.5;\"/>\n   </g>\n   <g id=\"line2d_53\">\n    <path clip-path=\"url(#p15b2265bc7)\" d=\"M 49.633125 94.542472 \nL 69.163125 90.624873 \nL 88.693125 87.903826 \nL 108.223125 85.067555 \n\" style=\"fill:none;stroke:#2ca02c;stroke-dasharray:9.6,2.4,1.5,2.4;stroke-dashoffset:0;stroke-width:1.5;\"/>\n   </g>\n   <g id=\"line2d_54\">\n    <path clip-path=\"url(#p15b2265bc7)\" d=\"M 34.954394 13.377273 \nL 44.698573 94.116486 \nL 54.442752 109.422225 \nL 64.186931 116.877167 \nL 73.93111 119.859269 \nL 83.675289 123.373121 \nL 93.419468 124.836145 \nL 103.163647 126.952367 \nL 112.907826 128.606527 \n\" style=\"fill:none;stroke:#1f77b4;stroke-linecap:square;stroke-width:1.5;\"/>\n   </g>\n   <g id=\"line2d_55\">\n    <path clip-path=\"url(#p15b2265bc7)\" d=\"M 49.633125 97.441189 \nL 69.163125 115.890989 \nL 88.693125 120.580856 \nL 108.223125 126.236474 \n\" style=\"fill:none;stroke:#ff7f0e;stroke-dasharray:5.55,2.4;stroke-dashoffset:0;stroke-width:1.5;\"/>\n   </g>\n   <g id=\"line2d_56\">\n    <path clip-path=\"url(#p15b2265bc7)\" d=\"M 49.633125 94.542472 \nL 69.163125 90.624873 \nL 88.693125 87.903826 \nL 108.223125 85.067555 \n\" style=\"fill:none;stroke:#2ca02c;stroke-dasharray:9.6,2.4,1.5,2.4;stroke-dashoffset:0;stroke-width:1.5;\"/>\n   </g>\n   <g id=\"line2d_57\">\n    <path clip-path=\"url(#p15b2265bc7)\" d=\"M 34.954394 13.377273 \nL 44.698573 94.116486 \nL 54.442752 109.422225 \nL 64.186931 116.877167 \nL 73.93111 119.859269 \nL 83.675289 123.373121 \nL 93.419468 124.836145 \nL 103.163647 126.952367 \nL 112.907826 128.606527 \nL 122.652006 129.018606 \n\" style=\"fill:none;stroke:#1f77b4;stroke-linecap:square;stroke-width:1.5;\"/>\n   </g>\n   <g id=\"line2d_58\">\n    <path clip-path=\"url(#p15b2265bc7)\" d=\"M 49.633125 97.441189 \nL 69.163125 115.890989 \nL 88.693125 120.580856 \nL 108.223125 126.236474 \n\" style=\"fill:none;stroke:#ff7f0e;stroke-dasharray:5.55,2.4;stroke-dashoffset:0;stroke-width:1.5;\"/>\n   </g>\n   <g id=\"line2d_59\">\n    <path clip-path=\"url(#p15b2265bc7)\" d=\"M 49.633125 94.542472 \nL 69.163125 90.624873 \nL 88.693125 87.903826 \nL 108.223125 85.067555 \n\" style=\"fill:none;stroke:#2ca02c;stroke-dasharray:9.6,2.4,1.5,2.4;stroke-dashoffset:0;stroke-width:1.5;\"/>\n   </g>\n   <g id=\"line2d_60\">\n    <path clip-path=\"url(#p15b2265bc7)\" d=\"M 34.954394 13.377273 \nL 44.698573 94.116486 \nL 54.442752 109.422225 \nL 64.186931 116.877167 \nL 73.93111 119.859269 \nL 83.675289 123.373121 \nL 93.419468 124.836145 \nL 103.163647 126.952367 \nL 112.907826 128.606527 \nL 122.652006 129.018606 \n\" style=\"fill:none;stroke:#1f77b4;stroke-linecap:square;stroke-width:1.5;\"/>\n   </g>\n   <g id=\"line2d_61\">\n    <path clip-path=\"url(#p15b2265bc7)\" d=\"M 49.633125 97.441189 \nL 69.163125 115.890989 \nL 88.693125 120.580856 \nL 108.223125 126.236474 \nL 127.753125 124.845427 \n\" style=\"fill:none;stroke:#ff7f0e;stroke-dasharray:5.55,2.4;stroke-dashoffset:0;stroke-width:1.5;\"/>\n   </g>\n   <g id=\"line2d_62\">\n    <path clip-path=\"url(#p15b2265bc7)\" d=\"M 49.633125 94.542472 \nL 69.163125 90.624873 \nL 88.693125 87.903826 \nL 108.223125 85.067555 \n\" style=\"fill:none;stroke:#2ca02c;stroke-dasharray:9.6,2.4,1.5,2.4;stroke-dashoffset:0;stroke-width:1.5;\"/>\n   </g>\n   <g id=\"line2d_63\">\n    <path clip-path=\"url(#p15b2265bc7)\" d=\"M 34.954394 13.377273 \nL 44.698573 94.116486 \nL 54.442752 109.422225 \nL 64.186931 116.877167 \nL 73.93111 119.859269 \nL 83.675289 123.373121 \nL 93.419468 124.836145 \nL 103.163647 126.952367 \nL 112.907826 128.606527 \nL 122.652006 129.018606 \n\" style=\"fill:none;stroke:#1f77b4;stroke-linecap:square;stroke-width:1.5;\"/>\n   </g>\n   <g id=\"line2d_64\">\n    <path clip-path=\"url(#p15b2265bc7)\" d=\"M 49.633125 97.441189 \nL 69.163125 115.890989 \nL 88.693125 120.580856 \nL 108.223125 126.236474 \nL 127.753125 124.845427 \n\" style=\"fill:none;stroke:#ff7f0e;stroke-dasharray:5.55,2.4;stroke-dashoffset:0;stroke-width:1.5;\"/>\n   </g>\n   <g id=\"line2d_65\">\n    <path clip-path=\"url(#p15b2265bc7)\" d=\"M 49.633125 94.542472 \nL 69.163125 90.624873 \nL 88.693125 87.903826 \nL 108.223125 85.067555 \nL 127.753125 85.865256 \n\" style=\"fill:none;stroke:#2ca02c;stroke-dasharray:9.6,2.4,1.5,2.4;stroke-dashoffset:0;stroke-width:1.5;\"/>\n   </g>\n   <g id=\"line2d_66\">\n    <path clip-path=\"url(#p15b2265bc7)\" d=\"M 34.954394 13.377273 \nL 44.698573 94.116486 \nL 54.442752 109.422225 \nL 64.186931 116.877167 \nL 73.93111 119.859269 \nL 83.675289 123.373121 \nL 93.419468 124.836145 \nL 103.163647 126.952367 \nL 112.907826 128.606527 \nL 122.652006 129.018606 \nL 132.396185 130.955067 \n\" style=\"fill:none;stroke:#1f77b4;stroke-linecap:square;stroke-width:1.5;\"/>\n   </g>\n   <g id=\"line2d_67\">\n    <path clip-path=\"url(#p15b2265bc7)\" d=\"M 49.633125 97.441189 \nL 69.163125 115.890989 \nL 88.693125 120.580856 \nL 108.223125 126.236474 \nL 127.753125 124.845427 \n\" style=\"fill:none;stroke:#ff7f0e;stroke-dasharray:5.55,2.4;stroke-dashoffset:0;stroke-width:1.5;\"/>\n   </g>\n   <g id=\"line2d_68\">\n    <path clip-path=\"url(#p15b2265bc7)\" d=\"M 49.633125 94.542472 \nL 69.163125 90.624873 \nL 88.693125 87.903826 \nL 108.223125 85.067555 \nL 127.753125 85.865256 \n\" style=\"fill:none;stroke:#2ca02c;stroke-dasharray:9.6,2.4,1.5,2.4;stroke-dashoffset:0;stroke-width:1.5;\"/>\n   </g>\n   <g id=\"line2d_69\">\n    <path clip-path=\"url(#p15b2265bc7)\" d=\"M 34.954394 13.377273 \nL 44.698573 94.116486 \nL 54.442752 109.422225 \nL 64.186931 116.877167 \nL 73.93111 119.859269 \nL 83.675289 123.373121 \nL 93.419468 124.836145 \nL 103.163647 126.952367 \nL 112.907826 128.606527 \nL 122.652006 129.018606 \nL 132.396185 130.955067 \nL 142.140364 130.629255 \n\" style=\"fill:none;stroke:#1f77b4;stroke-linecap:square;stroke-width:1.5;\"/>\n   </g>\n   <g id=\"line2d_70\">\n    <path clip-path=\"url(#p15b2265bc7)\" d=\"M 49.633125 97.441189 \nL 69.163125 115.890989 \nL 88.693125 120.580856 \nL 108.223125 126.236474 \nL 127.753125 124.845427 \n\" style=\"fill:none;stroke:#ff7f0e;stroke-dasharray:5.55,2.4;stroke-dashoffset:0;stroke-width:1.5;\"/>\n   </g>\n   <g id=\"line2d_71\">\n    <path clip-path=\"url(#p15b2265bc7)\" d=\"M 49.633125 94.542472 \nL 69.163125 90.624873 \nL 88.693125 87.903826 \nL 108.223125 85.067555 \nL 127.753125 85.865256 \n\" style=\"fill:none;stroke:#2ca02c;stroke-dasharray:9.6,2.4,1.5,2.4;stroke-dashoffset:0;stroke-width:1.5;\"/>\n   </g>\n   <g id=\"line2d_72\">\n    <path clip-path=\"url(#p15b2265bc7)\" d=\"M 34.954394 13.377273 \nL 44.698573 94.116486 \nL 54.442752 109.422225 \nL 64.186931 116.877167 \nL 73.93111 119.859269 \nL 83.675289 123.373121 \nL 93.419468 124.836145 \nL 103.163647 126.952367 \nL 112.907826 128.606527 \nL 122.652006 129.018606 \nL 132.396185 130.955067 \nL 142.140364 130.629255 \n\" style=\"fill:none;stroke:#1f77b4;stroke-linecap:square;stroke-width:1.5;\"/>\n   </g>\n   <g id=\"line2d_73\">\n    <path clip-path=\"url(#p15b2265bc7)\" d=\"M 49.633125 97.441189 \nL 69.163125 115.890989 \nL 88.693125 120.580856 \nL 108.223125 126.236474 \nL 127.753125 124.845427 \nL 147.283125 125.213324 \n\" style=\"fill:none;stroke:#ff7f0e;stroke-dasharray:5.55,2.4;stroke-dashoffset:0;stroke-width:1.5;\"/>\n   </g>\n   <g id=\"line2d_74\">\n    <path clip-path=\"url(#p15b2265bc7)\" d=\"M 49.633125 94.542472 \nL 69.163125 90.624873 \nL 88.693125 87.903826 \nL 108.223125 85.067555 \nL 127.753125 85.865256 \n\" style=\"fill:none;stroke:#2ca02c;stroke-dasharray:9.6,2.4,1.5,2.4;stroke-dashoffset:0;stroke-width:1.5;\"/>\n   </g>\n   <g id=\"line2d_75\">\n    <path clip-path=\"url(#p15b2265bc7)\" d=\"M 34.954394 13.377273 \nL 44.698573 94.116486 \nL 54.442752 109.422225 \nL 64.186931 116.877167 \nL 73.93111 119.859269 \nL 83.675289 123.373121 \nL 93.419468 124.836145 \nL 103.163647 126.952367 \nL 112.907826 128.606527 \nL 122.652006 129.018606 \nL 132.396185 130.955067 \nL 142.140364 130.629255 \n\" style=\"fill:none;stroke:#1f77b4;stroke-linecap:square;stroke-width:1.5;\"/>\n   </g>\n   <g id=\"line2d_76\">\n    <path clip-path=\"url(#p15b2265bc7)\" d=\"M 49.633125 97.441189 \nL 69.163125 115.890989 \nL 88.693125 120.580856 \nL 108.223125 126.236474 \nL 127.753125 124.845427 \nL 147.283125 125.213324 \n\" style=\"fill:none;stroke:#ff7f0e;stroke-dasharray:5.55,2.4;stroke-dashoffset:0;stroke-width:1.5;\"/>\n   </g>\n   <g id=\"line2d_77\">\n    <path clip-path=\"url(#p15b2265bc7)\" d=\"M 49.633125 94.542472 \nL 69.163125 90.624873 \nL 88.693125 87.903826 \nL 108.223125 85.067555 \nL 127.753125 85.865256 \nL 147.283125 85.918437 \n\" style=\"fill:none;stroke:#2ca02c;stroke-dasharray:9.6,2.4,1.5,2.4;stroke-dashoffset:0;stroke-width:1.5;\"/>\n   </g>\n   <g id=\"line2d_78\">\n    <path clip-path=\"url(#p15b2265bc7)\" d=\"M 34.954394 13.377273 \nL 44.698573 94.116486 \nL 54.442752 109.422225 \nL 64.186931 116.877167 \nL 73.93111 119.859269 \nL 83.675289 123.373121 \nL 93.419468 124.836145 \nL 103.163647 126.952367 \nL 112.907826 128.606527 \nL 122.652006 129.018606 \nL 132.396185 130.955067 \nL 142.140364 130.629255 \nL 151.884543 132.066923 \n\" style=\"fill:none;stroke:#1f77b4;stroke-linecap:square;stroke-width:1.5;\"/>\n   </g>\n   <g id=\"line2d_79\">\n    <path clip-path=\"url(#p15b2265bc7)\" d=\"M 49.633125 97.441189 \nL 69.163125 115.890989 \nL 88.693125 120.580856 \nL 108.223125 126.236474 \nL 127.753125 124.845427 \nL 147.283125 125.213324 \n\" style=\"fill:none;stroke:#ff7f0e;stroke-dasharray:5.55,2.4;stroke-dashoffset:0;stroke-width:1.5;\"/>\n   </g>\n   <g id=\"line2d_80\">\n    <path clip-path=\"url(#p15b2265bc7)\" d=\"M 49.633125 94.542472 \nL 69.163125 90.624873 \nL 88.693125 87.903826 \nL 108.223125 85.067555 \nL 127.753125 85.865256 \nL 147.283125 85.918437 \n\" style=\"fill:none;stroke:#2ca02c;stroke-dasharray:9.6,2.4,1.5,2.4;stroke-dashoffset:0;stroke-width:1.5;\"/>\n   </g>\n   <g id=\"line2d_81\">\n    <path clip-path=\"url(#p15b2265bc7)\" d=\"M 34.954394 13.377273 \nL 44.698573 94.116486 \nL 54.442752 109.422225 \nL 64.186931 116.877167 \nL 73.93111 119.859269 \nL 83.675289 123.373121 \nL 93.419468 124.836145 \nL 103.163647 126.952367 \nL 112.907826 128.606527 \nL 122.652006 129.018606 \nL 132.396185 130.955067 \nL 142.140364 130.629255 \nL 151.884543 132.066923 \nL 161.628722 133.116323 \n\" style=\"fill:none;stroke:#1f77b4;stroke-linecap:square;stroke-width:1.5;\"/>\n   </g>\n   <g id=\"line2d_82\">\n    <path clip-path=\"url(#p15b2265bc7)\" d=\"M 49.633125 97.441189 \nL 69.163125 115.890989 \nL 88.693125 120.580856 \nL 108.223125 126.236474 \nL 127.753125 124.845427 \nL 147.283125 125.213324 \n\" style=\"fill:none;stroke:#ff7f0e;stroke-dasharray:5.55,2.4;stroke-dashoffset:0;stroke-width:1.5;\"/>\n   </g>\n   <g id=\"line2d_83\">\n    <path clip-path=\"url(#p15b2265bc7)\" d=\"M 49.633125 94.542472 \nL 69.163125 90.624873 \nL 88.693125 87.903826 \nL 108.223125 85.067555 \nL 127.753125 85.865256 \nL 147.283125 85.918437 \n\" style=\"fill:none;stroke:#2ca02c;stroke-dasharray:9.6,2.4,1.5,2.4;stroke-dashoffset:0;stroke-width:1.5;\"/>\n   </g>\n   <g id=\"line2d_84\">\n    <path clip-path=\"url(#p15b2265bc7)\" d=\"M 34.954394 13.377273 \nL 44.698573 94.116486 \nL 54.442752 109.422225 \nL 64.186931 116.877167 \nL 73.93111 119.859269 \nL 83.675289 123.373121 \nL 93.419468 124.836145 \nL 103.163647 126.952367 \nL 112.907826 128.606527 \nL 122.652006 129.018606 \nL 132.396185 130.955067 \nL 142.140364 130.629255 \nL 151.884543 132.066923 \nL 161.628722 133.116323 \n\" style=\"fill:none;stroke:#1f77b4;stroke-linecap:square;stroke-width:1.5;\"/>\n   </g>\n   <g id=\"line2d_85\">\n    <path clip-path=\"url(#p15b2265bc7)\" d=\"M 49.633125 97.441189 \nL 69.163125 115.890989 \nL 88.693125 120.580856 \nL 108.223125 126.236474 \nL 127.753125 124.845427 \nL 147.283125 125.213324 \nL 166.813125 129.747496 \n\" style=\"fill:none;stroke:#ff7f0e;stroke-dasharray:5.55,2.4;stroke-dashoffset:0;stroke-width:1.5;\"/>\n   </g>\n   <g id=\"line2d_86\">\n    <path clip-path=\"url(#p15b2265bc7)\" d=\"M 49.633125 94.542472 \nL 69.163125 90.624873 \nL 88.693125 87.903826 \nL 108.223125 85.067555 \nL 127.753125 85.865256 \nL 147.283125 85.918437 \n\" style=\"fill:none;stroke:#2ca02c;stroke-dasharray:9.6,2.4,1.5,2.4;stroke-dashoffset:0;stroke-width:1.5;\"/>\n   </g>\n   <g id=\"line2d_87\">\n    <path clip-path=\"url(#p15b2265bc7)\" d=\"M 34.954394 13.377273 \nL 44.698573 94.116486 \nL 54.442752 109.422225 \nL 64.186931 116.877167 \nL 73.93111 119.859269 \nL 83.675289 123.373121 \nL 93.419468 124.836145 \nL 103.163647 126.952367 \nL 112.907826 128.606527 \nL 122.652006 129.018606 \nL 132.396185 130.955067 \nL 142.140364 130.629255 \nL 151.884543 132.066923 \nL 161.628722 133.116323 \n\" style=\"fill:none;stroke:#1f77b4;stroke-linecap:square;stroke-width:1.5;\"/>\n   </g>\n   <g id=\"line2d_88\">\n    <path clip-path=\"url(#p15b2265bc7)\" d=\"M 49.633125 97.441189 \nL 69.163125 115.890989 \nL 88.693125 120.580856 \nL 108.223125 126.236474 \nL 127.753125 124.845427 \nL 147.283125 125.213324 \nL 166.813125 129.747496 \n\" style=\"fill:none;stroke:#ff7f0e;stroke-dasharray:5.55,2.4;stroke-dashoffset:0;stroke-width:1.5;\"/>\n   </g>\n   <g id=\"line2d_89\">\n    <path clip-path=\"url(#p15b2265bc7)\" d=\"M 49.633125 94.542472 \nL 69.163125 90.624873 \nL 88.693125 87.903826 \nL 108.223125 85.067555 \nL 127.753125 85.865256 \nL 147.283125 85.918437 \nL 166.813125 84.376214 \n\" style=\"fill:none;stroke:#2ca02c;stroke-dasharray:9.6,2.4,1.5,2.4;stroke-dashoffset:0;stroke-width:1.5;\"/>\n   </g>\n   <g id=\"line2d_90\">\n    <path clip-path=\"url(#p15b2265bc7)\" d=\"M 34.954394 13.377273 \nL 44.698573 94.116486 \nL 54.442752 109.422225 \nL 64.186931 116.877167 \nL 73.93111 119.859269 \nL 83.675289 123.373121 \nL 93.419468 124.836145 \nL 103.163647 126.952367 \nL 112.907826 128.606527 \nL 122.652006 129.018606 \nL 132.396185 130.955067 \nL 142.140364 130.629255 \nL 151.884543 132.066923 \nL 161.628722 133.116323 \nL 171.372901 134.024369 \n\" style=\"fill:none;stroke:#1f77b4;stroke-linecap:square;stroke-width:1.5;\"/>\n   </g>\n   <g id=\"line2d_91\">\n    <path clip-path=\"url(#p15b2265bc7)\" d=\"M 49.633125 97.441189 \nL 69.163125 115.890989 \nL 88.693125 120.580856 \nL 108.223125 126.236474 \nL 127.753125 124.845427 \nL 147.283125 125.213324 \nL 166.813125 129.747496 \n\" style=\"fill:none;stroke:#ff7f0e;stroke-dasharray:5.55,2.4;stroke-dashoffset:0;stroke-width:1.5;\"/>\n   </g>\n   <g id=\"line2d_92\">\n    <path clip-path=\"url(#p15b2265bc7)\" d=\"M 49.633125 94.542472 \nL 69.163125 90.624873 \nL 88.693125 87.903826 \nL 108.223125 85.067555 \nL 127.753125 85.865256 \nL 147.283125 85.918437 \nL 166.813125 84.376214 \n\" style=\"fill:none;stroke:#2ca02c;stroke-dasharray:9.6,2.4,1.5,2.4;stroke-dashoffset:0;stroke-width:1.5;\"/>\n   </g>\n   <g id=\"line2d_93\">\n    <path clip-path=\"url(#p15b2265bc7)\" d=\"M 34.954394 13.377273 \nL 44.698573 94.116486 \nL 54.442752 109.422225 \nL 64.186931 116.877167 \nL 73.93111 119.859269 \nL 83.675289 123.373121 \nL 93.419468 124.836145 \nL 103.163647 126.952367 \nL 112.907826 128.606527 \nL 122.652006 129.018606 \nL 132.396185 130.955067 \nL 142.140364 130.629255 \nL 151.884543 132.066923 \nL 161.628722 133.116323 \nL 171.372901 134.024369 \nL 181.11708 134.04838 \n\" style=\"fill:none;stroke:#1f77b4;stroke-linecap:square;stroke-width:1.5;\"/>\n   </g>\n   <g id=\"line2d_94\">\n    <path clip-path=\"url(#p15b2265bc7)\" d=\"M 49.633125 97.441189 \nL 69.163125 115.890989 \nL 88.693125 120.580856 \nL 108.223125 126.236474 \nL 127.753125 124.845427 \nL 147.283125 125.213324 \nL 166.813125 129.747496 \n\" style=\"fill:none;stroke:#ff7f0e;stroke-dasharray:5.55,2.4;stroke-dashoffset:0;stroke-width:1.5;\"/>\n   </g>\n   <g id=\"line2d_95\">\n    <path clip-path=\"url(#p15b2265bc7)\" d=\"M 49.633125 94.542472 \nL 69.163125 90.624873 \nL 88.693125 87.903826 \nL 108.223125 85.067555 \nL 127.753125 85.865256 \nL 147.283125 85.918437 \nL 166.813125 84.376214 \n\" style=\"fill:none;stroke:#2ca02c;stroke-dasharray:9.6,2.4,1.5,2.4;stroke-dashoffset:0;stroke-width:1.5;\"/>\n   </g>\n   <g id=\"line2d_96\">\n    <path clip-path=\"url(#p15b2265bc7)\" d=\"M 34.954394 13.377273 \nL 44.698573 94.116486 \nL 54.442752 109.422225 \nL 64.186931 116.877167 \nL 73.93111 119.859269 \nL 83.675289 123.373121 \nL 93.419468 124.836145 \nL 103.163647 126.952367 \nL 112.907826 128.606527 \nL 122.652006 129.018606 \nL 132.396185 130.955067 \nL 142.140364 130.629255 \nL 151.884543 132.066923 \nL 161.628722 133.116323 \nL 171.372901 134.024369 \nL 181.11708 134.04838 \n\" style=\"fill:none;stroke:#1f77b4;stroke-linecap:square;stroke-width:1.5;\"/>\n   </g>\n   <g id=\"line2d_97\">\n    <path clip-path=\"url(#p15b2265bc7)\" d=\"M 49.633125 97.441189 \nL 69.163125 115.890989 \nL 88.693125 120.580856 \nL 108.223125 126.236474 \nL 127.753125 124.845427 \nL 147.283125 125.213324 \nL 166.813125 129.747496 \nL 186.343125 127.439053 \n\" style=\"fill:none;stroke:#ff7f0e;stroke-dasharray:5.55,2.4;stroke-dashoffset:0;stroke-width:1.5;\"/>\n   </g>\n   <g id=\"line2d_98\">\n    <path clip-path=\"url(#p15b2265bc7)\" d=\"M 49.633125 94.542472 \nL 69.163125 90.624873 \nL 88.693125 87.903826 \nL 108.223125 85.067555 \nL 127.753125 85.865256 \nL 147.283125 85.918437 \nL 166.813125 84.376214 \n\" style=\"fill:none;stroke:#2ca02c;stroke-dasharray:9.6,2.4,1.5,2.4;stroke-dashoffset:0;stroke-width:1.5;\"/>\n   </g>\n   <g id=\"line2d_99\">\n    <path clip-path=\"url(#p15b2265bc7)\" d=\"M 34.954394 13.377273 \nL 44.698573 94.116486 \nL 54.442752 109.422225 \nL 64.186931 116.877167 \nL 73.93111 119.859269 \nL 83.675289 123.373121 \nL 93.419468 124.836145 \nL 103.163647 126.952367 \nL 112.907826 128.606527 \nL 122.652006 129.018606 \nL 132.396185 130.955067 \nL 142.140364 130.629255 \nL 151.884543 132.066923 \nL 161.628722 133.116323 \nL 171.372901 134.024369 \nL 181.11708 134.04838 \n\" style=\"fill:none;stroke:#1f77b4;stroke-linecap:square;stroke-width:1.5;\"/>\n   </g>\n   <g id=\"line2d_100\">\n    <path clip-path=\"url(#p15b2265bc7)\" d=\"M 49.633125 97.441189 \nL 69.163125 115.890989 \nL 88.693125 120.580856 \nL 108.223125 126.236474 \nL 127.753125 124.845427 \nL 147.283125 125.213324 \nL 166.813125 129.747496 \nL 186.343125 127.439053 \n\" style=\"fill:none;stroke:#ff7f0e;stroke-dasharray:5.55,2.4;stroke-dashoffset:0;stroke-width:1.5;\"/>\n   </g>\n   <g id=\"line2d_101\">\n    <path clip-path=\"url(#p15b2265bc7)\" d=\"M 49.633125 94.542472 \nL 69.163125 90.624873 \nL 88.693125 87.903826 \nL 108.223125 85.067555 \nL 127.753125 85.865256 \nL 147.283125 85.918437 \nL 166.813125 84.376214 \nL 186.343125 85.546176 \n\" style=\"fill:none;stroke:#2ca02c;stroke-dasharray:9.6,2.4,1.5,2.4;stroke-dashoffset:0;stroke-width:1.5;\"/>\n   </g>\n   <g id=\"line2d_102\">\n    <path clip-path=\"url(#p15b2265bc7)\" d=\"M 34.954394 13.377273 \nL 44.698573 94.116486 \nL 54.442752 109.422225 \nL 64.186931 116.877167 \nL 73.93111 119.859269 \nL 83.675289 123.373121 \nL 93.419468 124.836145 \nL 103.163647 126.952367 \nL 112.907826 128.606527 \nL 122.652006 129.018606 \nL 132.396185 130.955067 \nL 142.140364 130.629255 \nL 151.884543 132.066923 \nL 161.628722 133.116323 \nL 171.372901 134.024369 \nL 181.11708 134.04838 \nL 190.861259 135.134129 \n\" style=\"fill:none;stroke:#1f77b4;stroke-linecap:square;stroke-width:1.5;\"/>\n   </g>\n   <g id=\"line2d_103\">\n    <path clip-path=\"url(#p15b2265bc7)\" d=\"M 49.633125 97.441189 \nL 69.163125 115.890989 \nL 88.693125 120.580856 \nL 108.223125 126.236474 \nL 127.753125 124.845427 \nL 147.283125 125.213324 \nL 166.813125 129.747496 \nL 186.343125 127.439053 \n\" style=\"fill:none;stroke:#ff7f0e;stroke-dasharray:5.55,2.4;stroke-dashoffset:0;stroke-width:1.5;\"/>\n   </g>\n   <g id=\"line2d_104\">\n    <path clip-path=\"url(#p15b2265bc7)\" d=\"M 49.633125 94.542472 \nL 69.163125 90.624873 \nL 88.693125 87.903826 \nL 108.223125 85.067555 \nL 127.753125 85.865256 \nL 147.283125 85.918437 \nL 166.813125 84.376214 \nL 186.343125 85.546176 \n\" style=\"fill:none;stroke:#2ca02c;stroke-dasharray:9.6,2.4,1.5,2.4;stroke-dashoffset:0;stroke-width:1.5;\"/>\n   </g>\n   <g id=\"line2d_105\">\n    <path clip-path=\"url(#p15b2265bc7)\" d=\"M 34.954394 13.377273 \nL 44.698573 94.116486 \nL 54.442752 109.422225 \nL 64.186931 116.877167 \nL 73.93111 119.859269 \nL 83.675289 123.373121 \nL 93.419468 124.836145 \nL 103.163647 126.952367 \nL 112.907826 128.606527 \nL 122.652006 129.018606 \nL 132.396185 130.955067 \nL 142.140364 130.629255 \nL 151.884543 132.066923 \nL 161.628722 133.116323 \nL 171.372901 134.024369 \nL 181.11708 134.04838 \nL 190.861259 135.134129 \nL 200.605438 135.654394 \n\" style=\"fill:none;stroke:#1f77b4;stroke-linecap:square;stroke-width:1.5;\"/>\n   </g>\n   <g id=\"line2d_106\">\n    <path clip-path=\"url(#p15b2265bc7)\" d=\"M 49.633125 97.441189 \nL 69.163125 115.890989 \nL 88.693125 120.580856 \nL 108.223125 126.236474 \nL 127.753125 124.845427 \nL 147.283125 125.213324 \nL 166.813125 129.747496 \nL 186.343125 127.439053 \n\" style=\"fill:none;stroke:#ff7f0e;stroke-dasharray:5.55,2.4;stroke-dashoffset:0;stroke-width:1.5;\"/>\n   </g>\n   <g id=\"line2d_107\">\n    <path clip-path=\"url(#p15b2265bc7)\" d=\"M 49.633125 94.542472 \nL 69.163125 90.624873 \nL 88.693125 87.903826 \nL 108.223125 85.067555 \nL 127.753125 85.865256 \nL 147.283125 85.918437 \nL 166.813125 84.376214 \nL 186.343125 85.546176 \n\" style=\"fill:none;stroke:#2ca02c;stroke-dasharray:9.6,2.4,1.5,2.4;stroke-dashoffset:0;stroke-width:1.5;\"/>\n   </g>\n   <g id=\"line2d_108\">\n    <path clip-path=\"url(#p15b2265bc7)\" d=\"M 34.954394 13.377273 \nL 44.698573 94.116486 \nL 54.442752 109.422225 \nL 64.186931 116.877167 \nL 73.93111 119.859269 \nL 83.675289 123.373121 \nL 93.419468 124.836145 \nL 103.163647 126.952367 \nL 112.907826 128.606527 \nL 122.652006 129.018606 \nL 132.396185 130.955067 \nL 142.140364 130.629255 \nL 151.884543 132.066923 \nL 161.628722 133.116323 \nL 171.372901 134.024369 \nL 181.11708 134.04838 \nL 190.861259 135.134129 \nL 200.605438 135.654394 \n\" style=\"fill:none;stroke:#1f77b4;stroke-linecap:square;stroke-width:1.5;\"/>\n   </g>\n   <g id=\"line2d_109\">\n    <path clip-path=\"url(#p15b2265bc7)\" d=\"M 49.633125 97.441189 \nL 69.163125 115.890989 \nL 88.693125 120.580856 \nL 108.223125 126.236474 \nL 127.753125 124.845427 \nL 147.283125 125.213324 \nL 166.813125 129.747496 \nL 186.343125 127.439053 \nL 205.873125 129.856241 \n\" style=\"fill:none;stroke:#ff7f0e;stroke-dasharray:5.55,2.4;stroke-dashoffset:0;stroke-width:1.5;\"/>\n   </g>\n   <g id=\"line2d_110\">\n    <path clip-path=\"url(#p15b2265bc7)\" d=\"M 49.633125 94.542472 \nL 69.163125 90.624873 \nL 88.693125 87.903826 \nL 108.223125 85.067555 \nL 127.753125 85.865256 \nL 147.283125 85.918437 \nL 166.813125 84.376214 \nL 186.343125 85.546176 \n\" style=\"fill:none;stroke:#2ca02c;stroke-dasharray:9.6,2.4,1.5,2.4;stroke-dashoffset:0;stroke-width:1.5;\"/>\n   </g>\n   <g id=\"line2d_111\">\n    <path clip-path=\"url(#p15b2265bc7)\" d=\"M 34.954394 13.377273 \nL 44.698573 94.116486 \nL 54.442752 109.422225 \nL 64.186931 116.877167 \nL 73.93111 119.859269 \nL 83.675289 123.373121 \nL 93.419468 124.836145 \nL 103.163647 126.952367 \nL 112.907826 128.606527 \nL 122.652006 129.018606 \nL 132.396185 130.955067 \nL 142.140364 130.629255 \nL 151.884543 132.066923 \nL 161.628722 133.116323 \nL 171.372901 134.024369 \nL 181.11708 134.04838 \nL 190.861259 135.134129 \nL 200.605438 135.654394 \n\" style=\"fill:none;stroke:#1f77b4;stroke-linecap:square;stroke-width:1.5;\"/>\n   </g>\n   <g id=\"line2d_112\">\n    <path clip-path=\"url(#p15b2265bc7)\" d=\"M 49.633125 97.441189 \nL 69.163125 115.890989 \nL 88.693125 120.580856 \nL 108.223125 126.236474 \nL 127.753125 124.845427 \nL 147.283125 125.213324 \nL 166.813125 129.747496 \nL 186.343125 127.439053 \nL 205.873125 129.856241 \n\" style=\"fill:none;stroke:#ff7f0e;stroke-dasharray:5.55,2.4;stroke-dashoffset:0;stroke-width:1.5;\"/>\n   </g>\n   <g id=\"line2d_113\">\n    <path clip-path=\"url(#p15b2265bc7)\" d=\"M 49.633125 94.542472 \nL 69.163125 90.624873 \nL 88.693125 87.903826 \nL 108.223125 85.067555 \nL 127.753125 85.865256 \nL 147.283125 85.918437 \nL 166.813125 84.376214 \nL 186.343125 85.546176 \nL 205.873125 84.420531 \n\" style=\"fill:none;stroke:#2ca02c;stroke-dasharray:9.6,2.4,1.5,2.4;stroke-dashoffset:0;stroke-width:1.5;\"/>\n   </g>\n   <g id=\"line2d_114\">\n    <path clip-path=\"url(#p15b2265bc7)\" d=\"M 34.954394 13.377273 \nL 44.698573 94.116486 \nL 54.442752 109.422225 \nL 64.186931 116.877167 \nL 73.93111 119.859269 \nL 83.675289 123.373121 \nL 93.419468 124.836145 \nL 103.163647 126.952367 \nL 112.907826 128.606527 \nL 122.652006 129.018606 \nL 132.396185 130.955067 \nL 142.140364 130.629255 \nL 151.884543 132.066923 \nL 161.628722 133.116323 \nL 171.372901 134.024369 \nL 181.11708 134.04838 \nL 190.861259 135.134129 \nL 200.605438 135.654394 \nL 210.349618 136.340658 \n\" style=\"fill:none;stroke:#1f77b4;stroke-linecap:square;stroke-width:1.5;\"/>\n   </g>\n   <g id=\"line2d_115\">\n    <path clip-path=\"url(#p15b2265bc7)\" d=\"M 49.633125 97.441189 \nL 69.163125 115.890989 \nL 88.693125 120.580856 \nL 108.223125 126.236474 \nL 127.753125 124.845427 \nL 147.283125 125.213324 \nL 166.813125 129.747496 \nL 186.343125 127.439053 \nL 205.873125 129.856241 \n\" style=\"fill:none;stroke:#ff7f0e;stroke-dasharray:5.55,2.4;stroke-dashoffset:0;stroke-width:1.5;\"/>\n   </g>\n   <g id=\"line2d_116\">\n    <path clip-path=\"url(#p15b2265bc7)\" d=\"M 49.633125 94.542472 \nL 69.163125 90.624873 \nL 88.693125 87.903826 \nL 108.223125 85.067555 \nL 127.753125 85.865256 \nL 147.283125 85.918437 \nL 166.813125 84.376214 \nL 186.343125 85.546176 \nL 205.873125 84.420531 \n\" style=\"fill:none;stroke:#2ca02c;stroke-dasharray:9.6,2.4,1.5,2.4;stroke-dashoffset:0;stroke-width:1.5;\"/>\n   </g>\n   <g id=\"line2d_117\">\n    <path clip-path=\"url(#p15b2265bc7)\" d=\"M 34.954394 13.377273 \nL 44.698573 94.116486 \nL 54.442752 109.422225 \nL 64.186931 116.877167 \nL 73.93111 119.859269 \nL 83.675289 123.373121 \nL 93.419468 124.836145 \nL 103.163647 126.952367 \nL 112.907826 128.606527 \nL 122.652006 129.018606 \nL 132.396185 130.955067 \nL 142.140364 130.629255 \nL 151.884543 132.066923 \nL 161.628722 133.116323 \nL 171.372901 134.024369 \nL 181.11708 134.04838 \nL 190.861259 135.134129 \nL 200.605438 135.654394 \nL 210.349618 136.340658 \nL 220.093797 136.922727 \n\" style=\"fill:none;stroke:#1f77b4;stroke-linecap:square;stroke-width:1.5;\"/>\n   </g>\n   <g id=\"line2d_118\">\n    <path clip-path=\"url(#p15b2265bc7)\" d=\"M 49.633125 97.441189 \nL 69.163125 115.890989 \nL 88.693125 120.580856 \nL 108.223125 126.236474 \nL 127.753125 124.845427 \nL 147.283125 125.213324 \nL 166.813125 129.747496 \nL 186.343125 127.439053 \nL 205.873125 129.856241 \n\" style=\"fill:none;stroke:#ff7f0e;stroke-dasharray:5.55,2.4;stroke-dashoffset:0;stroke-width:1.5;\"/>\n   </g>\n   <g id=\"line2d_119\">\n    <path clip-path=\"url(#p15b2265bc7)\" d=\"M 49.633125 94.542472 \nL 69.163125 90.624873 \nL 88.693125 87.903826 \nL 108.223125 85.067555 \nL 127.753125 85.865256 \nL 147.283125 85.918437 \nL 166.813125 84.376214 \nL 186.343125 85.546176 \nL 205.873125 84.420531 \n\" style=\"fill:none;stroke:#2ca02c;stroke-dasharray:9.6,2.4,1.5,2.4;stroke-dashoffset:0;stroke-width:1.5;\"/>\n   </g>\n   <g id=\"line2d_120\">\n    <path clip-path=\"url(#p15b2265bc7)\" d=\"M 34.954394 13.377273 \nL 44.698573 94.116486 \nL 54.442752 109.422225 \nL 64.186931 116.877167 \nL 73.93111 119.859269 \nL 83.675289 123.373121 \nL 93.419468 124.836145 \nL 103.163647 126.952367 \nL 112.907826 128.606527 \nL 122.652006 129.018606 \nL 132.396185 130.955067 \nL 142.140364 130.629255 \nL 151.884543 132.066923 \nL 161.628722 133.116323 \nL 171.372901 134.024369 \nL 181.11708 134.04838 \nL 190.861259 135.134129 \nL 200.605438 135.654394 \nL 210.349618 136.340658 \nL 220.093797 136.922727 \n\" style=\"fill:none;stroke:#1f77b4;stroke-linecap:square;stroke-width:1.5;\"/>\n   </g>\n   <g id=\"line2d_121\">\n    <path clip-path=\"url(#p15b2265bc7)\" d=\"M 49.633125 97.441189 \nL 69.163125 115.890989 \nL 88.693125 120.580856 \nL 108.223125 126.236474 \nL 127.753125 124.845427 \nL 147.283125 125.213324 \nL 166.813125 129.747496 \nL 186.343125 127.439053 \nL 205.873125 129.856241 \nL 225.403125 131.21961 \n\" style=\"fill:none;stroke:#ff7f0e;stroke-dasharray:5.55,2.4;stroke-dashoffset:0;stroke-width:1.5;\"/>\n   </g>\n   <g id=\"line2d_122\">\n    <path clip-path=\"url(#p15b2265bc7)\" d=\"M 49.633125 94.542472 \nL 69.163125 90.624873 \nL 88.693125 87.903826 \nL 108.223125 85.067555 \nL 127.753125 85.865256 \nL 147.283125 85.918437 \nL 166.813125 84.376214 \nL 186.343125 85.546176 \nL 205.873125 84.420531 \n\" style=\"fill:none;stroke:#2ca02c;stroke-dasharray:9.6,2.4,1.5,2.4;stroke-dashoffset:0;stroke-width:1.5;\"/>\n   </g>\n   <g id=\"line2d_123\">\n    <path clip-path=\"url(#p15b2265bc7)\" d=\"M 34.954394 13.377273 \nL 44.698573 94.116486 \nL 54.442752 109.422225 \nL 64.186931 116.877167 \nL 73.93111 119.859269 \nL 83.675289 123.373121 \nL 93.419468 124.836145 \nL 103.163647 126.952367 \nL 112.907826 128.606527 \nL 122.652006 129.018606 \nL 132.396185 130.955067 \nL 142.140364 130.629255 \nL 151.884543 132.066923 \nL 161.628722 133.116323 \nL 171.372901 134.024369 \nL 181.11708 134.04838 \nL 190.861259 135.134129 \nL 200.605438 135.654394 \nL 210.349618 136.340658 \nL 220.093797 136.922727 \n\" style=\"fill:none;stroke:#1f77b4;stroke-linecap:square;stroke-width:1.5;\"/>\n   </g>\n   <g id=\"line2d_124\">\n    <path clip-path=\"url(#p15b2265bc7)\" d=\"M 49.633125 97.441189 \nL 69.163125 115.890989 \nL 88.693125 120.580856 \nL 108.223125 126.236474 \nL 127.753125 124.845427 \nL 147.283125 125.213324 \nL 166.813125 129.747496 \nL 186.343125 127.439053 \nL 205.873125 129.856241 \nL 225.403125 131.21961 \n\" style=\"fill:none;stroke:#ff7f0e;stroke-dasharray:5.55,2.4;stroke-dashoffset:0;stroke-width:1.5;\"/>\n   </g>\n   <g id=\"line2d_125\">\n    <path clip-path=\"url(#p15b2265bc7)\" d=\"M 49.633125 94.542472 \nL 69.163125 90.624873 \nL 88.693125 87.903826 \nL 108.223125 85.067555 \nL 127.753125 85.865256 \nL 147.283125 85.918437 \nL 166.813125 84.376214 \nL 186.343125 85.546176 \nL 205.873125 84.420531 \nL 225.403125 84.092587 \n\" style=\"fill:none;stroke:#2ca02c;stroke-dasharray:9.6,2.4,1.5,2.4;stroke-dashoffset:0;stroke-width:1.5;\"/>\n   </g>\n   <g id=\"patch_3\">\n    <path d=\"M 30.103125 143.1 \nL 30.103125 7.2 \n\" style=\"fill:none;stroke:#000000;stroke-linecap:square;stroke-linejoin:miter;stroke-width:0.8;\"/>\n   </g>\n   <g id=\"patch_4\">\n    <path d=\"M 225.403125 143.1 \nL 225.403125 7.2 \n\" style=\"fill:none;stroke:#000000;stroke-linecap:square;stroke-linejoin:miter;stroke-width:0.8;\"/>\n   </g>\n   <g id=\"patch_5\">\n    <path d=\"M 30.103125 143.1 \nL 225.403125 143.1 \n\" style=\"fill:none;stroke:#000000;stroke-linecap:square;stroke-linejoin:miter;stroke-width:0.8;\"/>\n   </g>\n   <g id=\"patch_6\">\n    <path d=\"M 30.103125 7.2 \nL 225.403125 7.2 \n\" style=\"fill:none;stroke:#000000;stroke-linecap:square;stroke-linejoin:miter;stroke-width:0.8;\"/>\n   </g>\n   <g id=\"legend_1\">\n    <g id=\"patch_7\">\n     <path d=\"M 138.8125 60.06875 \nL 218.403125 60.06875 \nQ 220.403125 60.06875 220.403125 58.06875 \nL 220.403125 14.2 \nQ 220.403125 12.2 218.403125 12.2 \nL 138.8125 12.2 \nQ 136.8125 12.2 136.8125 14.2 \nL 136.8125 58.06875 \nQ 136.8125 60.06875 138.8125 60.06875 \nz\n\" style=\"fill:#ffffff;opacity:0.8;stroke:#cccccc;stroke-linejoin:miter;\"/>\n    </g>\n    <g id=\"line2d_126\">\n     <path d=\"M 140.8125 20.298437 \nL 160.8125 20.298437 \n\" style=\"fill:none;stroke:#1f77b4;stroke-linecap:square;stroke-width:1.5;\"/>\n    </g>\n    <g id=\"line2d_127\"/>\n    <g id=\"text_11\">\n     <!-- train_loss -->\n     <defs>\n      <path d=\"M 18.3125 70.21875 \nL 18.3125 54.6875 \nL 36.8125 54.6875 \nL 36.8125 47.703125 \nL 18.3125 47.703125 \nL 18.3125 18.015625 \nQ 18.3125 11.328125 20.140625 9.421875 \nQ 21.96875 7.515625 27.59375 7.515625 \nL 36.8125 7.515625 \nL 36.8125 0 \nL 27.59375 0 \nQ 17.1875 0 13.234375 3.875 \nQ 9.28125 7.765625 9.28125 18.015625 \nL 9.28125 47.703125 \nL 2.6875 47.703125 \nL 2.6875 54.6875 \nL 9.28125 54.6875 \nL 9.28125 70.21875 \nz\n\" id=\"DejaVuSans-116\"/>\n      <path d=\"M 41.109375 46.296875 \nQ 39.59375 47.171875 37.8125 47.578125 \nQ 36.03125 48 33.890625 48 \nQ 26.265625 48 22.1875 43.046875 \nQ 18.109375 38.09375 18.109375 28.8125 \nL 18.109375 0 \nL 9.078125 0 \nL 9.078125 54.6875 \nL 18.109375 54.6875 \nL 18.109375 46.1875 \nQ 20.953125 51.171875 25.484375 53.578125 \nQ 30.03125 56 36.53125 56 \nQ 37.453125 56 38.578125 55.875 \nQ 39.703125 55.765625 41.0625 55.515625 \nz\n\" id=\"DejaVuSans-114\"/>\n      <path d=\"M 34.28125 27.484375 \nQ 23.390625 27.484375 19.1875 25 \nQ 14.984375 22.515625 14.984375 16.5 \nQ 14.984375 11.71875 18.140625 8.90625 \nQ 21.296875 6.109375 26.703125 6.109375 \nQ 34.1875 6.109375 38.703125 11.40625 \nQ 43.21875 16.703125 43.21875 25.484375 \nL 43.21875 27.484375 \nz\nM 52.203125 31.203125 \nL 52.203125 0 \nL 43.21875 0 \nL 43.21875 8.296875 \nQ 40.140625 3.328125 35.546875 0.953125 \nQ 30.953125 -1.421875 24.3125 -1.421875 \nQ 15.921875 -1.421875 10.953125 3.296875 \nQ 6 8.015625 6 15.921875 \nQ 6 25.140625 12.171875 29.828125 \nQ 18.359375 34.515625 30.609375 34.515625 \nL 43.21875 34.515625 \nL 43.21875 35.40625 \nQ 43.21875 41.609375 39.140625 45 \nQ 35.0625 48.390625 27.6875 48.390625 \nQ 23 48.390625 18.546875 47.265625 \nQ 14.109375 46.140625 10.015625 43.890625 \nL 10.015625 52.203125 \nQ 14.9375 54.109375 19.578125 55.046875 \nQ 24.21875 56 28.609375 56 \nQ 40.484375 56 46.34375 49.84375 \nQ 52.203125 43.703125 52.203125 31.203125 \nz\n\" id=\"DejaVuSans-97\"/>\n      <path d=\"M 9.421875 54.6875 \nL 18.40625 54.6875 \nL 18.40625 0 \nL 9.421875 0 \nz\nM 9.421875 75.984375 \nL 18.40625 75.984375 \nL 18.40625 64.59375 \nL 9.421875 64.59375 \nz\n\" id=\"DejaVuSans-105\"/>\n      <path d=\"M 54.890625 33.015625 \nL 54.890625 0 \nL 45.90625 0 \nL 45.90625 32.71875 \nQ 45.90625 40.484375 42.875 44.328125 \nQ 39.84375 48.1875 33.796875 48.1875 \nQ 26.515625 48.1875 22.3125 43.546875 \nQ 18.109375 38.921875 18.109375 30.90625 \nL 18.109375 0 \nL 9.078125 0 \nL 9.078125 54.6875 \nL 18.109375 54.6875 \nL 18.109375 46.1875 \nQ 21.34375 51.125 25.703125 53.5625 \nQ 30.078125 56 35.796875 56 \nQ 45.21875 56 50.046875 50.171875 \nQ 54.890625 44.34375 54.890625 33.015625 \nz\n\" id=\"DejaVuSans-110\"/>\n      <path d=\"M 50.984375 -16.609375 \nL 50.984375 -23.578125 \nL -0.984375 -23.578125 \nL -0.984375 -16.609375 \nz\n\" id=\"DejaVuSans-95\"/>\n      <path d=\"M 9.421875 75.984375 \nL 18.40625 75.984375 \nL 18.40625 0 \nL 9.421875 0 \nz\n\" id=\"DejaVuSans-108\"/>\n      <path d=\"M 44.28125 53.078125 \nL 44.28125 44.578125 \nQ 40.484375 46.53125 36.375 47.5 \nQ 32.28125 48.484375 27.875 48.484375 \nQ 21.1875 48.484375 17.84375 46.4375 \nQ 14.5 44.390625 14.5 40.28125 \nQ 14.5 37.15625 16.890625 35.375 \nQ 19.28125 33.59375 26.515625 31.984375 \nL 29.59375 31.296875 \nQ 39.15625 29.25 43.1875 25.515625 \nQ 47.21875 21.78125 47.21875 15.09375 \nQ 47.21875 7.46875 41.1875 3.015625 \nQ 35.15625 -1.421875 24.609375 -1.421875 \nQ 20.21875 -1.421875 15.453125 -0.5625 \nQ 10.6875 0.296875 5.421875 2 \nL 5.421875 11.28125 \nQ 10.40625 8.6875 15.234375 7.390625 \nQ 20.0625 6.109375 24.8125 6.109375 \nQ 31.15625 6.109375 34.5625 8.28125 \nQ 37.984375 10.453125 37.984375 14.40625 \nQ 37.984375 18.0625 35.515625 20.015625 \nQ 33.0625 21.96875 24.703125 23.78125 \nL 21.578125 24.515625 \nQ 13.234375 26.265625 9.515625 29.90625 \nQ 5.8125 33.546875 5.8125 39.890625 \nQ 5.8125 47.609375 11.28125 51.796875 \nQ 16.75 56 26.8125 56 \nQ 31.78125 56 36.171875 55.265625 \nQ 40.578125 54.546875 44.28125 53.078125 \nz\n\" id=\"DejaVuSans-115\"/>\n     </defs>\n     <g transform=\"translate(168.8125 23.798437)scale(0.1 -0.1)\">\n      <use xlink:href=\"#DejaVuSans-116\"/>\n      <use x=\"39.208984\" xlink:href=\"#DejaVuSans-114\"/>\n      <use x=\"80.322266\" xlink:href=\"#DejaVuSans-97\"/>\n      <use x=\"141.601562\" xlink:href=\"#DejaVuSans-105\"/>\n      <use x=\"169.384766\" xlink:href=\"#DejaVuSans-110\"/>\n      <use x=\"232.763672\" xlink:href=\"#DejaVuSans-95\"/>\n      <use x=\"282.763672\" xlink:href=\"#DejaVuSans-108\"/>\n      <use x=\"310.546875\" xlink:href=\"#DejaVuSans-111\"/>\n      <use x=\"371.728516\" xlink:href=\"#DejaVuSans-115\"/>\n      <use x=\"423.828125\" xlink:href=\"#DejaVuSans-115\"/>\n     </g>\n    </g>\n    <g id=\"line2d_128\">\n     <path d=\"M 140.8125 35.254687 \nL 160.8125 35.254687 \n\" style=\"fill:none;stroke:#ff7f0e;stroke-dasharray:5.55,2.4;stroke-dashoffset:0;stroke-width:1.5;\"/>\n    </g>\n    <g id=\"line2d_129\"/>\n    <g id=\"text_12\">\n     <!-- val_loss -->\n     <defs>\n      <path d=\"M 2.984375 54.6875 \nL 12.5 54.6875 \nL 29.59375 8.796875 \nL 46.6875 54.6875 \nL 56.203125 54.6875 \nL 35.6875 0 \nL 23.484375 0 \nz\n\" id=\"DejaVuSans-118\"/>\n     </defs>\n     <g transform=\"translate(168.8125 38.754687)scale(0.1 -0.1)\">\n      <use xlink:href=\"#DejaVuSans-118\"/>\n      <use x=\"59.179688\" xlink:href=\"#DejaVuSans-97\"/>\n      <use x=\"120.458984\" xlink:href=\"#DejaVuSans-108\"/>\n      <use x=\"148.242188\" xlink:href=\"#DejaVuSans-95\"/>\n      <use x=\"198.242188\" xlink:href=\"#DejaVuSans-108\"/>\n      <use x=\"226.025391\" xlink:href=\"#DejaVuSans-111\"/>\n      <use x=\"287.207031\" xlink:href=\"#DejaVuSans-115\"/>\n      <use x=\"339.306641\" xlink:href=\"#DejaVuSans-115\"/>\n     </g>\n    </g>\n    <g id=\"line2d_130\">\n     <path d=\"M 140.8125 50.210937 \nL 160.8125 50.210937 \n\" style=\"fill:none;stroke:#2ca02c;stroke-dasharray:9.6,2.4,1.5,2.4;stroke-dashoffset:0;stroke-width:1.5;\"/>\n    </g>\n    <g id=\"line2d_131\"/>\n    <g id=\"text_13\">\n     <!-- val_acc -->\n     <g transform=\"translate(168.8125 53.710937)scale(0.1 -0.1)\">\n      <use xlink:href=\"#DejaVuSans-118\"/>\n      <use x=\"59.179688\" xlink:href=\"#DejaVuSans-97\"/>\n      <use x=\"120.458984\" xlink:href=\"#DejaVuSans-108\"/>\n      <use x=\"148.242188\" xlink:href=\"#DejaVuSans-95\"/>\n      <use x=\"198.242188\" xlink:href=\"#DejaVuSans-97\"/>\n      <use x=\"259.521484\" xlink:href=\"#DejaVuSans-99\"/>\n      <use x=\"314.501953\" xlink:href=\"#DejaVuSans-99\"/>\n     </g>\n    </g>\n   </g>\n  </g>\n </g>\n <defs>\n  <clipPath id=\"p15b2265bc7\">\n   <rect height=\"135.9\" width=\"195.3\" x=\"30.103125\" y=\"7.2\"/>\n  </clipPath>\n </defs>\n</svg>\n"
          },
          "metadata": {
            "needs_background": "light"
          }
        }
      ],
      "source": [
        "trainer = d2l.Trainer(max_epochs=10)\n",
        "data = d2l.FashionMNIST(batch_size=128, resize=(96, 96))\n",
        "with d2l.try_gpu():\n",
        "    model = ResNet18(lr=0.01)\n",
        "    trainer.fit(model, data)"
      ]
    },
    {
      "cell_type": "markdown",
      "source": [
        "Avaliação:\n",
        "São poucas as diferenças de desempenho com as alterações propostas no modelo. Uma perda um pouco menor nas primeiras épocas (em relação ao modelo original)."
      ],
      "metadata": {
        "id": "Z1n_MMC9sZ54"
      },
      "id": "Z1n_MMC9sZ54"
    }
  ],
  "metadata": {
    "accelerator": "GPU",
    "kernelspec": {
      "display_name": "Python 3",
      "name": "python3"
    },
    "language_info": {
      "name": "python"
    },
    "colab": {
      "provenance": []
    }
  },
  "nbformat": 4,
  "nbformat_minor": 5
}